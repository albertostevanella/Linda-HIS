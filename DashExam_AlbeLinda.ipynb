{
 "cells": [
  {
   "cell_type": "code",
   "execution_count": 24,
   "id": "3a345294-724b-4adb-9ac3-ee4901c5bcab",
   "metadata": {},
   "outputs": [],
   "source": [
    "import re\n",
    "# pid = !netstat -a -v | grep 8050\n",
    "# pid = int(re.split('\\s+', pid[0])[-4])\n",
    "# !kill {pid}"
   ]
  },
  {
   "cell_type": "code",
   "execution_count": 25,
   "id": "9a35a6ec-b10b-4f7d-aa98-3087253b3d42",
   "metadata": {},
   "outputs": [],
   "source": [
    "import jupyter_dash\n",
    "from dash import html\n",
    "import dash\n",
    "import dash_bootstrap_components as dbc\n",
    "from dash import dcc\n",
    "from dash.dependencies import Input, Output\n",
    "\n",
    "from IPython.lib import backgroundjobs as bg\n",
    "from IPython.display import IFrame as WebBrowser\n",
    "\n",
    "\n",
    "jobs = bg.BackgroundJobManager()\n",
    "app = dash.Dash(external_stylesheets=[dbc.themes.BOOTSTRAP])\n"
   ]
  },
  {
   "cell_type": "code",
   "execution_count": 26,
   "id": "0235be4c",
   "metadata": {},
   "outputs": [],
   "source": [
    "# from pony.orm import Database, Required, Optional, PrimaryKey, Set, select, count, db_session\n",
    "from pony.orm import *\n",
    "from  datetime import datetime,date\n",
    "import psycopg2\n",
    "from pony import orm\n",
    "\n",
    "#Create DB def\n",
    "DB = Database()\n",
    "DB.bind(provider='postgres', \n",
    "        database='postgres',\n",
    "        user='postgres', \n",
    "        port='5433',\n",
    "        host='localhost',\n",
    "        password='admin'\n",
    "        )\n",
    "\n",
    "\n",
    "    \n",
    "class Partecipant(DB.Entity):\n",
    "    _table_ = \"partecipant\"\n",
    "    name = PrimaryKey(str)\n",
    "    age = Optional(int)\n",
    "    height = Optional(int)\n",
    "    gender = Optional(str)\n",
    "    max_heart_rate = Optional(int)\n",
    "    group = Optional(str)\n",
    "    base_line_cal = Optional(float)"
   ]
  },
  {
   "cell_type": "code",
   "execution_count": 27,
   "id": "036882a0",
   "metadata": {},
   "outputs": [
    {
     "name": "stdout",
     "output_type": "stream",
     "text": [
      "                          partecipant                                bpm   \n",
      "0                        (name, text)  (vt, timestamp without time zone)  \\\n",
      "1                      (age, integer)                   (value, integer)   \n",
      "2                   (height, integer)              (confidence, integer)   \n",
      "3                      (gender, text)                (partecipant, text)   \n",
      "4           (max_heart_rate, integer)                               None   \n",
      "5                       (group, text)                               None   \n",
      "6   (base_line_cal, double precision)                               None   \n",
      "7                                None                               None   \n",
      "8                                None                               None   \n",
      "9                                None                               None   \n",
      "10                               None                               None   \n",
      "11                               None                               None   \n",
      "12                               None                               None   \n",
      "13                               None                               None   \n",
      "14                               None                               None   \n",
      "\n",
      "                             calories   \n",
      "0           (value, double precision)  \\\n",
      "1   (vt, timestamp without time zone)   \n",
      "2                 (partecipant, text)   \n",
      "3                                None   \n",
      "4                                None   \n",
      "5                                None   \n",
      "6                                None   \n",
      "7                                None   \n",
      "8                                None   \n",
      "9                                None   \n",
      "10                               None   \n",
      "11                               None   \n",
      "12                               None   \n",
      "13                               None   \n",
      "14                               None   \n",
      "\n",
      "                                                  day   \n",
      "0                   (vt, timestamp without time zone)  \\\n",
      "1                                 (partecipant, text)   \n",
      "2                 (n_lightly_active_minutes, integer)   \n",
      "3              (n_moderately_active_minutes, integer)   \n",
      "4            (f_resting_heart_rate, double precision)   \n",
      "5                      (n_sedentary_minutes, integer)   \n",
      "6                    (n_very_active_minutes, integer)   \n",
      "7                          (n_overall_score, integer)   \n",
      "8                      (n_composition_score, integer)   \n",
      "9                         (n_duration_score, integer)   \n",
      "10                 (n_deep_sleep_in_minutes, integer)   \n",
      "11  (f_time_in_heart_rate_below_default_zone_1, do...   \n",
      "12    (f_time_in_heart_rate_zone_1, double precision)   \n",
      "13    (f_time_in_heart_rate_zone_2, double precision)   \n",
      "14    (f_time_in_heart_rate_zone_3, double precision)   \n",
      "\n",
      "                            distances                          exercises   \n",
      "0           (value, double precision)  (vt, timestamp without time zone)  \\\n",
      "1   (vt, timestamp without time zone)                (partecipant, text)   \n",
      "2                 (partecipant, text)               (activityname, text)   \n",
      "3                                None                 (avg_bpm, integer)   \n",
      "4                                None                (calories, integer)   \n",
      "5                                None                (duration, integer)   \n",
      "6                                None                   (steps, integer)   \n",
      "7                                None  (elevationgain, double precision)   \n",
      "8                                None                               None   \n",
      "9                                None                               None   \n",
      "10                               None                               None   \n",
      "11                               None                               None   \n",
      "12                               None                               None   \n",
      "13                               None                               None   \n",
      "14                               None                               None   \n",
      "\n",
      "                                     sleep      prescriptions   \n",
      "0        (vt, timestamp without time zone)  (row_id, integer)  \\\n",
      "1                      (partecipant, text)               None   \n",
      "2                      (duration, integer)               None   \n",
      "3   (endtime, timestamp without time zone)               None   \n",
      "4                 (minutesasleep, integer)               None   \n",
      "5                            (types, text)               None   \n",
      "6                    (efficiency, integer)               None   \n",
      "7                                     None               None   \n",
      "8                                     None               None   \n",
      "9                                     None               None   \n",
      "10                                    None               None   \n",
      "11                                    None               None   \n",
      "12                                    None               None   \n",
      "13                                    None               None   \n",
      "14                                    None               None   \n",
      "\n",
      "                                steps           patients          admission   \n",
      "0   (vt, timestamp without time zone)  (row_id, integer)      (id, integer)  \\\n",
      "1                 (partecipant, text)               None  (row_id, integer)   \n",
      "2                    (value, integer)               None               None   \n",
      "3                                None               None               None   \n",
      "4                                None               None               None   \n",
      "5                                None               None               None   \n",
      "6                                None               None               None   \n",
      "7                                None               None               None   \n",
      "8                                None               None               None   \n",
      "9                                None               None               None   \n",
      "10                               None               None               None   \n",
      "11                               None               None               None   \n",
      "12                               None               None               None   \n",
      "13                               None               None               None   \n",
      "14                               None               None               None   \n",
      "\n",
      "       admission_cube  \n",
      "0   (row_id, integer)  \n",
      "1      (gender, text)  \n",
      "2   (diagnosis, text)  \n",
      "3       (month, text)  \n",
      "4     (year, integer)  \n",
      "5      (los, integer)  \n",
      "6         (day, date)  \n",
      "7                None  \n",
      "8                None  \n",
      "9                None  \n",
      "10               None  \n",
      "11               None  \n",
      "12               None  \n",
      "13               None  \n",
      "14               None  \n",
      "{'partecipant': [('name', 'text'), ('age', 'integer'), ('height', 'integer'), ('gender', 'text'), ('max_heart_rate', 'integer'), ('group', 'text'), ('base_line_cal', 'double precision')], 'bpm': [('vt', 'timestamp without time zone'), ('value', 'integer'), ('confidence', 'integer'), ('partecipant', 'text')], 'calories': [('value', 'double precision'), ('vt', 'timestamp without time zone'), ('partecipant', 'text')], 'day': [('vt', 'timestamp without time zone'), ('partecipant', 'text'), ('n_lightly_active_minutes', 'integer'), ('n_moderately_active_minutes', 'integer'), ('f_resting_heart_rate', 'double precision'), ('n_sedentary_minutes', 'integer'), ('n_very_active_minutes', 'integer'), ('n_overall_score', 'integer'), ('n_composition_score', 'integer'), ('n_duration_score', 'integer'), ('n_deep_sleep_in_minutes', 'integer'), ('f_time_in_heart_rate_below_default_zone_1', 'double precision'), ('f_time_in_heart_rate_zone_1', 'double precision'), ('f_time_in_heart_rate_zone_2', 'double precision'), ('f_time_in_heart_rate_zone_3', 'double precision')], 'distances': [('value', 'double precision'), ('vt', 'timestamp without time zone'), ('partecipant', 'text')], 'exercises': [('vt', 'timestamp without time zone'), ('partecipant', 'text'), ('activityname', 'text'), ('avg_bpm', 'integer'), ('calories', 'integer'), ('duration', 'integer'), ('steps', 'integer'), ('elevationgain', 'double precision')], 'sleep': [('vt', 'timestamp without time zone'), ('partecipant', 'text'), ('duration', 'integer'), ('endtime', 'timestamp without time zone'), ('minutesasleep', 'integer'), ('types', 'text'), ('efficiency', 'integer')], 'prescriptions': [('row_id', 'integer')], 'steps': [('vt', 'timestamp without time zone'), ('partecipant', 'text'), ('value', 'integer')], 'patients': [('row_id', 'integer')], 'admission': [('id', 'integer'), ('row_id', 'integer')], 'admission_cube': [('row_id', 'integer'), ('gender', 'text'), ('diagnosis', 'text'), ('month', 'text'), ('year', 'integer'), ('los', 'integer'), ('day', 'date')]}\n",
      "Tabs(children=[Tab(children=[Ul([Li('name'), Li('age'), Li('height'), Li('gender'), Li('max_heart_rate'), Li('group'), Li('base_line_cal')])], label='partecipant'), Tab(children=[Ul([Li('vt'), Li('value'), Li('confidence'), Li('partecipant')])], label='bpm'), Tab(children=[Ul([Li('value'), Li('vt'), Li('partecipant')])], label='calories'), Tab(children=[Ul([Li('vt'), Li('partecipant'), Li('n_lightly_active_minutes'), Li('n_moderately_active_minutes'), Li('f_resting_heart_rate'), Li('n_sedentary_minutes'), Li('n_very_active_minutes'), Li('n_overall_score'), Li('n_composition_score'), Li('n_duration_score'), Li('n_deep_sleep_in_minutes'), Li('f_time_in_heart_rate_below_default_zone_1'), Li('f_time_in_heart_rate_zone_1'), Li('f_time_in_heart_rate_zone_2'), Li('f_time_in_heart_rate_zone_3')])], label='day'), Tab(children=[Ul([Li('value'), Li('vt'), Li('partecipant')])], label='distances'), Tab(children=[Ul([Li('vt'), Li('partecipant'), Li('activityname'), Li('avg_bpm'), Li('calories'), Li('duration'), Li('steps'), Li('elevationgain')])], label='exercises'), Tab(children=[Ul([Li('vt'), Li('partecipant'), Li('duration'), Li('endtime'), Li('minutesasleep'), Li('types'), Li('efficiency')])], label='sleep'), Tab(children=[Ul([Li('row_id')])], label='prescriptions'), Tab(children=[Ul([Li('vt'), Li('partecipant'), Li('value')])], label='steps'), Tab(children=[Ul([Li('row_id')])], label='patients'), Tab(children=[Ul([Li('id'), Li('row_id')])], label='admission'), Tab(children=[Ul([Li('row_id'), Li('gender'), Li('diagnosis'), Li('month'), Li('year'), Li('los'), Li('day')])], label='admission_cube')], style={'margin-top': '3em'})\n"
     ]
    }
   ],
   "source": [
    "from numpy import split\n",
    "import numpy \n",
    "import pandas as pd\n",
    "\n",
    "\n",
    "db_tables = DB.select(\"SELECT table_name FROM INFORMATION_SCHEMA.TABLES WHERE table_type = 'BASE TABLE' and table_schema = 'public'\")\n",
    "his_tables_attributes = {}\n",
    "for table in db_tables:\n",
    "    attributes = DB.select(f\"SELECT column_name, data_type c FROM INFORMATION_SCHEMA.columns WHERE table_schema = 'public' and table_name = '{table}'\")\n",
    "    his_tables_attributes[table] = attributes\n",
    "\n",
    "df = pd.DataFrame.from_dict(his_tables_attributes,orient='index').transpose()\n",
    "\n",
    "# for a in df:\n",
    "#     print(a)\n",
    "#     for i,j in df[a]:\n",
    "#         print(f'nome: {i}, tipo: {j}')\n",
    "        \n",
    "        \n",
    "print(df)\n",
    "\n",
    "print(his_tables_attributes)\n",
    "\n",
    "table_tabs = dbc.Tabs(\n",
    "    [ dbc.Tab(\n",
    "        [ \n",
    "            html.Ul( [ html.Li(a) for a,b in table_attributes ]  )], \n",
    "                    label=table_name  ) \n",
    "            for table_name, table_attributes in his_tables_attributes.items()],\n",
    "    style={'margin-top':'3em'}\n",
    "\n",
    ")\n",
    "\n",
    "\n",
    "print(table_tabs)"
   ]
  },
  {
   "cell_type": "code",
   "execution_count": 28,
   "id": "7794504d",
   "metadata": {},
   "outputs": [
    {
     "name": "stdout",
     "output_type": "stream",
     "text": [
      "name\n",
      "age\n",
      "height\n",
      "gender\n",
      "max_heart_rate\n",
      "group\n",
      "base_line_cal\n",
      "vt\n",
      "value\n",
      "confidence\n",
      "partecipant\n",
      "value\n",
      "vt\n",
      "partecipant\n",
      "vt\n",
      "partecipant\n",
      "n_lightly_active_minutes\n",
      "n_moderately_active_minutes\n",
      "f_resting_heart_rate\n",
      "n_sedentary_minutes\n",
      "n_very_active_minutes\n",
      "n_overall_score\n",
      "n_composition_score\n",
      "n_duration_score\n",
      "n_deep_sleep_in_minutes\n",
      "f_time_in_heart_rate_below_default_zone_1\n",
      "f_time_in_heart_rate_zone_1\n",
      "f_time_in_heart_rate_zone_2\n",
      "f_time_in_heart_rate_zone_3\n",
      "value\n",
      "vt\n",
      "partecipant\n",
      "vt\n",
      "partecipant\n",
      "activityname\n",
      "avg_bpm\n",
      "calories\n",
      "duration\n",
      "steps\n",
      "elevationgain\n",
      "vt\n",
      "partecipant\n",
      "duration\n",
      "endtime\n",
      "minutesasleep\n",
      "types\n",
      "efficiency\n",
      "row_id\n",
      "vt\n",
      "partecipant\n",
      "value\n",
      "row_id\n",
      "id\n",
      "row_id\n",
      "row_id\n",
      "gender\n",
      "diagnosis\n",
      "month\n",
      "year\n",
      "los\n",
      "day\n",
      "{'partecipant': [('name', 'text'), ('age', 'integer'), ('height', 'integer'), ('gender', 'text'), ('max_heart_rate', 'integer'), ('group', 'text'), ('base_line_cal', 'double precision')], 'bpm': [('vt', 'timestamp without time zone'), ('value', 'integer'), ('confidence', 'integer'), ('partecipant', 'text')], 'calories': [('value', 'double precision'), ('vt', 'timestamp without time zone'), ('partecipant', 'text')], 'day': [('vt', 'timestamp without time zone'), ('partecipant', 'text'), ('n_lightly_active_minutes', 'integer'), ('n_moderately_active_minutes', 'integer'), ('f_resting_heart_rate', 'double precision'), ('n_sedentary_minutes', 'integer'), ('n_very_active_minutes', 'integer'), ('n_overall_score', 'integer'), ('n_composition_score', 'integer'), ('n_duration_score', 'integer'), ('n_deep_sleep_in_minutes', 'integer'), ('f_time_in_heart_rate_below_default_zone_1', 'double precision'), ('f_time_in_heart_rate_zone_1', 'double precision'), ('f_time_in_heart_rate_zone_2', 'double precision'), ('f_time_in_heart_rate_zone_3', 'double precision')], 'distances': [('value', 'double precision'), ('vt', 'timestamp without time zone'), ('partecipant', 'text')], 'exercises': [('vt', 'timestamp without time zone'), ('partecipant', 'text'), ('activityname', 'text'), ('avg_bpm', 'integer'), ('calories', 'integer'), ('duration', 'integer'), ('steps', 'integer'), ('elevationgain', 'double precision')], 'sleep': [('vt', 'timestamp without time zone'), ('partecipant', 'text'), ('duration', 'integer'), ('endtime', 'timestamp without time zone'), ('minutesasleep', 'integer'), ('types', 'text'), ('efficiency', 'integer')], 'prescriptions': [('row_id', 'integer')], 'steps': [('vt', 'timestamp without time zone'), ('partecipant', 'text'), ('value', 'integer')], 'patients': [('row_id', 'integer')], 'admission': [('id', 'integer'), ('row_id', 'integer')], 'admission_cube': [('row_id', 'integer'), ('gender', 'text'), ('diagnosis', 'text'), ('month', 'text'), ('year', 'integer'), ('los', 'integer'), ('day', 'date')]}\n"
     ]
    }
   ],
   "source": [
    "for table_name, table_attributes in his_tables_attributes.items():\n",
    "    # print(table_attributes[0][0],table_attributes[0][1])\n",
    "    # print(table_attributes[0])\n",
    "    # for i in range(1,len(table_attributes)):\n",
    "    #     print(i)\n",
    "    for a,b in table_attributes:\n",
    "        print(a)\n",
    "\n",
    "\n",
    "print(his_tables_attributes)"
   ]
  },
  {
   "cell_type": "code",
   "execution_count": 29,
   "id": "0c990f14",
   "metadata": {},
   "outputs": [
    {
     "name": "stdout",
     "output_type": "stream",
     "text": [
      "name: \"name\" (type: \"text\")\n",
      "name: \"age\" (type: \"integer\")\n",
      "name: \"height\" (type: \"integer\")\n",
      "name: \"gender\" (type: \"text\")\n",
      "name: \"max_heart_rate\" (type: \"integer\")\n",
      "name: \"group\" (type: \"text\")\n",
      "name: \"base_line_cal\" (type: \"double precision\")\n",
      "name: \"vt\" (type: \"timestamp without time zone\")\n",
      "name: \"value\" (type: \"integer\")\n",
      "name: \"confidence\" (type: \"integer\")\n",
      "name: \"partecipant\" (type: \"text\")\n",
      "name: \"value\" (type: \"double precision\")\n",
      "name: \"vt\" (type: \"timestamp without time zone\")\n",
      "name: \"partecipant\" (type: \"text\")\n",
      "name: \"vt\" (type: \"timestamp without time zone\")\n",
      "name: \"partecipant\" (type: \"text\")\n",
      "name: \"n_lightly_active_minutes\" (type: \"integer\")\n",
      "name: \"n_moderately_active_minutes\" (type: \"integer\")\n",
      "name: \"f_resting_heart_rate\" (type: \"double precision\")\n",
      "name: \"n_sedentary_minutes\" (type: \"integer\")\n",
      "name: \"n_very_active_minutes\" (type: \"integer\")\n",
      "name: \"n_overall_score\" (type: \"integer\")\n",
      "name: \"n_composition_score\" (type: \"integer\")\n",
      "name: \"n_duration_score\" (type: \"integer\")\n",
      "name: \"n_deep_sleep_in_minutes\" (type: \"integer\")\n",
      "name: \"f_time_in_heart_rate_below_default_zone_1\" (type: \"double precision\")\n",
      "name: \"f_time_in_heart_rate_zone_1\" (type: \"double precision\")\n",
      "name: \"f_time_in_heart_rate_zone_2\" (type: \"double precision\")\n",
      "name: \"f_time_in_heart_rate_zone_3\" (type: \"double precision\")\n",
      "name: \"value\" (type: \"double precision\")\n",
      "name: \"vt\" (type: \"timestamp without time zone\")\n",
      "name: \"partecipant\" (type: \"text\")\n",
      "name: \"vt\" (type: \"timestamp without time zone\")\n",
      "name: \"partecipant\" (type: \"text\")\n",
      "name: \"activityname\" (type: \"text\")\n",
      "name: \"avg_bpm\" (type: \"integer\")\n",
      "name: \"calories\" (type: \"integer\")\n",
      "name: \"duration\" (type: \"integer\")\n",
      "name: \"steps\" (type: \"integer\")\n",
      "name: \"elevationgain\" (type: \"double precision\")\n",
      "name: \"vt\" (type: \"timestamp without time zone\")\n",
      "name: \"partecipant\" (type: \"text\")\n",
      "name: \"duration\" (type: \"integer\")\n",
      "name: \"endtime\" (type: \"timestamp without time zone\")\n",
      "name: \"minutesasleep\" (type: \"integer\")\n",
      "name: \"types\" (type: \"text\")\n",
      "name: \"efficiency\" (type: \"integer\")\n",
      "name: \"row_id\" (type: \"integer\")\n",
      "name: \"vt\" (type: \"timestamp without time zone\")\n",
      "name: \"partecipant\" (type: \"text\")\n",
      "name: \"value\" (type: \"integer\")\n",
      "name: \"row_id\" (type: \"integer\")\n",
      "name: \"id\" (type: \"integer\")\n",
      "name: \"row_id\" (type: \"integer\")\n",
      "name: \"row_id\" (type: \"integer\")\n",
      "name: \"gender\" (type: \"text\")\n",
      "name: \"diagnosis\" (type: \"text\")\n",
      "name: \"month\" (type: \"text\")\n",
      "name: \"year\" (type: \"integer\")\n",
      "name: \"los\" (type: \"integer\")\n",
      "name: \"day\" (type: \"date\")\n"
     ]
    }
   ],
   "source": [
    "for table_name, table_attributes in his_tables_attributes.items():\n",
    "    for idx, s in table_attributes:\n",
    "        print(f'name: \"{idx}\" (type: \"{s}\")')"
   ]
  },
  {
   "cell_type": "code",
   "execution_count": 30,
   "id": "7f4c3039-51f5-4944-a01c-73f18f630402",
   "metadata": {},
   "outputs": [],
   "source": [
    "width = 600\n",
    "height = int(1.6180339887 * width)\n",
    "\n",
    "style_header = {\"text-align\": \"center\"}\n",
    "\n",
    "mimic_url = 'https://mimic.mit.edu/docs/iii/'\n",
    "dash_url = 'https://dash.plotly.com/'\n",
    "\n",
    "style_main_adaptive = { 'lg':{'size':6, 'offset':2}, 'md':{'size':12, 'offset':2}  } "
   ]
  },
  {
   "cell_type": "code",
   "execution_count": 31,
   "id": "34919e14-52c0-4e5c-872f-f01c9761063a",
   "metadata": {},
   "outputs": [],
   "source": [
    "app_title = html.H1('Welcome to the DASHboard for MIMIC-III Database', style = style_header)"
   ]
  },
  {
   "cell_type": "code",
   "execution_count": 32,
   "id": "fd748f40-b080-4489-be1e-7188f7610be7",
   "metadata": {},
   "outputs": [],
   "source": [
    "app_items = html.Ul([ \n",
    "                html.Li(['Source: ', html.A(mimic_url, href=mimic_url)]),\n",
    "                html.Li(['Made with : ', html.A('Plotly Dash', href=dash_url)]), \n",
    "            ]\n",
    "        )"
   ]
  },
  {
   "cell_type": "code",
   "execution_count": 33,
   "id": "6bc5431d-2408-4073-8097-fd90cc7b0e33",
   "metadata": {},
   "outputs": [],
   "source": [
    "# mimic_tables = [ 'admissions', 'patients', 'prescriptions', 'calories' ]\n",
    "\n",
    "# mimic_tables_attributes = {\n",
    "# 'partecipant': re.split('\\s+','''NAME\tVARCHAR(3) \n",
    "#             AGE\tINT\n",
    "#             HEIGHT INT\n",
    "#             GENDER\tVARCHAR(6)\n",
    "#             MAX_HEART_RATE INT\n",
    "#             GROUP VARCHAR(1)\n",
    "#             BASE_LINE_CAL FLOAT\n",
    "#             ''')\n",
    "# }\n"
   ]
  },
  {
   "cell_type": "code",
   "execution_count": 34,
   "id": "82361701-4358-4a03-929d-b8464d31a8cc",
   "metadata": {},
   "outputs": [],
   "source": [
    "# print(mimic_tables_attributes)\n",
    "# print(mimic_tables)\n",
    "# print(type(mimic_tables_attributes),type(mimic_tables))"
   ]
  },
  {
   "cell_type": "code",
   "execution_count": 35,
   "id": "aacad56a-917e-491f-a830-6fd397491b07",
   "metadata": {},
   "outputs": [],
   "source": [
    "# table_tabs = dbc.Tabs(\n",
    "#     [ dbc.Tab(\n",
    "#         [ \n",
    "#             html.Ul( [ html.Li(f'{\"name: \" if idx%2 == 0 else \"type: \" } {s}')  \n",
    "#                       for idx, s in enumerate(table_attributes)  ] )], \n",
    "#                     label=table_name  ) \n",
    "#             for table_name, table_attributes in his_tables_attributes.items() ],\n",
    "#     style={'margin-top':'3em'}\n",
    "\n",
    "# )"
   ]
  },
  {
   "cell_type": "code",
   "execution_count": 36,
   "id": "a325f1ab-f438-47b3-a95e-05bb044e5c5d",
   "metadata": {},
   "outputs": [],
   "source": [
    "app_table_names = dbc.Row(['Tables Sources: '] + [\n",
    "    dbc.Col(children=[ \n",
    "            html.A(child, \n",
    "            href=f'https://mimic.mit.edu/docs/iii/tables/{child}/')], width=2) for child in db_tables\n",
    "        ], style={'padding-left':'2em'}   \n",
    ")"
   ]
  },
  {
   "cell_type": "code",
   "execution_count": 37,
   "id": "14c5d658-fb0c-4152-8cf0-92c77bbab54d",
   "metadata": {},
   "outputs": [],
   "source": [
    "DB.generate_mapping()"
   ]
  },
  {
   "cell_type": "code",
   "execution_count": 38,
   "id": "cf517f62-506d-419d-9500-de0eeebbaaa9",
   "metadata": {},
   "outputs": [
    {
     "data": {
      "text/plain": [
       "[1]"
      ]
     },
     "execution_count": 38,
     "metadata": {},
     "output_type": "execute_result"
    }
   ],
   "source": [
    "[ count(r for r in entity) for entity in [Partecipant]]"
   ]
  },
  {
   "cell_type": "code",
   "execution_count": 39,
   "id": "f8debaa9-f4dc-427c-84ab-ff2c6dc78df1",
   "metadata": {},
   "outputs": [
    {
     "data": {
      "text/plain": [
       "'Partecipant'"
      ]
     },
     "execution_count": 39,
     "metadata": {},
     "output_type": "execute_result"
    }
   ],
   "source": [
    "re.split('\\.|\"|\\'',str(Partecipant))[-2]"
   ]
  },
  {
   "cell_type": "code",
   "execution_count": 40,
   "id": "1504f190-9540-4d63-bc3a-986e683231b8",
   "metadata": {},
   "outputs": [],
   "source": [
    "def extract_entity_name(entity):\n",
    "    return re.split('\\.|\"|\\'', str(entity))[-2]\n",
    "    "
   ]
  },
  {
   "cell_type": "code",
   "execution_count": 41,
   "id": "62e977bc-d7e9-4d9a-afbc-b05a7e706d2a",
   "metadata": {},
   "outputs": [
    {
     "data": {
      "text/plain": [
       "Dropdown(options=[{'label': 'Partecipant', 'value': 'Partecipant'}], id='selected_entity')"
      ]
     },
     "execution_count": 41,
     "metadata": {},
     "output_type": "execute_result"
    }
   ],
   "source": [
    "entity_selector = dcc.Dropdown(id='selected_entity',\n",
    "    options= [  { 'label': extract_entity_name(e), 'value': extract_entity_name(e) } \n",
    "              for e in [Partecipant] ]\n",
    ")\n",
    "entity_selector"
   ]
  },
  {
   "cell_type": "code",
   "execution_count": 42,
   "id": "5b433b6a-51b0-44f9-8571-55e081258275",
   "metadata": {},
   "outputs": [
    {
     "data": {
      "text/plain": [
       "Col(children=[H1(children='Welcome to the DASHboard for MIMIC-III Database', style={'text-align': 'center'}), Ul([Li(['Source: ', A(children='https://mimic.mit.edu/docs/iii/', href='https://mimic.mit.edu/docs/iii/')]), Li(['Made with : ', A(children='Plotly Dash', href='https://dash.plotly.com/')])]), Row(children=['Tables Sources: ', Col(children=[A(children='partecipant', href='https://mimic.mit.edu/docs/iii/tables/partecipant/')], width=2), Col(children=[A(children='bpm', href='https://mimic.mit.edu/docs/iii/tables/bpm/')], width=2), Col(children=[A(children='calories', href='https://mimic.mit.edu/docs/iii/tables/calories/')], width=2), Col(children=[A(children='day', href='https://mimic.mit.edu/docs/iii/tables/day/')], width=2), Col(children=[A(children='distances', href='https://mimic.mit.edu/docs/iii/tables/distances/')], width=2), Col(children=[A(children='exercises', href='https://mimic.mit.edu/docs/iii/tables/exercises/')], width=2), Col(children=[A(children='sleep', href='https://mimic.mit.edu/docs/iii/tables/sleep/')], width=2), Col(children=[A(children='prescriptions', href='https://mimic.mit.edu/docs/iii/tables/prescriptions/')], width=2), Col(children=[A(children='steps', href='https://mimic.mit.edu/docs/iii/tables/steps/')], width=2), Col(children=[A(children='patients', href='https://mimic.mit.edu/docs/iii/tables/patients/')], width=2), Col(children=[A(children='admission', href='https://mimic.mit.edu/docs/iii/tables/admission/')], width=2), Col(children=[A(children='admission_cube', href='https://mimic.mit.edu/docs/iii/tables/admission_cube/')], width=2)], style={'padding-left': '2em'}), Tabs(children=[Tab(children=[Ul([Li('name'), Li('age'), Li('height'), Li('gender'), Li('max_heart_rate'), Li('group'), Li('base_line_cal')])], label='partecipant'), Tab(children=[Ul([Li('vt'), Li('value'), Li('confidence'), Li('partecipant')])], label='bpm'), Tab(children=[Ul([Li('value'), Li('vt'), Li('partecipant')])], label='calories'), Tab(children=[Ul([Li('vt'), Li('partecipant'), Li('n_lightly_active_minutes'), Li('n_moderately_active_minutes'), Li('f_resting_heart_rate'), Li('n_sedentary_minutes'), Li('n_very_active_minutes'), Li('n_overall_score'), Li('n_composition_score'), Li('n_duration_score'), Li('n_deep_sleep_in_minutes'), Li('f_time_in_heart_rate_below_default_zone_1'), Li('f_time_in_heart_rate_zone_1'), Li('f_time_in_heart_rate_zone_2'), Li('f_time_in_heart_rate_zone_3')])], label='day'), Tab(children=[Ul([Li('value'), Li('vt'), Li('partecipant')])], label='distances'), Tab(children=[Ul([Li('vt'), Li('partecipant'), Li('activityname'), Li('avg_bpm'), Li('calories'), Li('duration'), Li('steps'), Li('elevationgain')])], label='exercises'), Tab(children=[Ul([Li('vt'), Li('partecipant'), Li('duration'), Li('endtime'), Li('minutesasleep'), Li('types'), Li('efficiency')])], label='sleep'), Tab(children=[Ul([Li('row_id')])], label='prescriptions'), Tab(children=[Ul([Li('vt'), Li('partecipant'), Li('value')])], label='steps'), Tab(children=[Ul([Li('row_id')])], label='patients'), Tab(children=[Ul([Li('id'), Li('row_id')])], label='admission'), Tab(children=[Ul([Li('row_id'), Li('gender'), Li('diagnosis'), Li('month'), Li('year'), Li('los'), Li('day')])], label='admission_cube')], style={'margin-top': '3em'}), H2('Entities'), Dropdown(options=[{'label': 'Partecipant', 'value': 'Partecipant'}], id='selected_entity'), Div(id='selected_entity_output')], lg={'size': 6, 'offset': 2}, md={'size': 12, 'offset': 2})"
      ]
     },
     "execution_count": 42,
     "metadata": {},
     "output_type": "execute_result"
    }
   ],
   "source": [
    "layout_main = dbc.Col(\n",
    "    children = [\n",
    "        app_title,\n",
    "        app_items,\n",
    "        app_table_names,\n",
    "        table_tabs,\n",
    "        html.H2(\"Entities\"),\n",
    "        entity_selector,\n",
    "        html.Div(id='selected_entity_output')\n",
    "    ],\n",
    "    **style_main_adaptive\n",
    ")\n",
    "layout_main"
   ]
  },
  {
   "cell_type": "code",
   "execution_count": 43,
   "id": "de7ba868-2bf4-45b9-b2f3-f268e1a393bf",
   "metadata": {},
   "outputs": [
    {
     "name": "stdout",
     "output_type": "stream",
     "text": [
      "1\n"
     ]
    }
   ],
   "source": [
    "print(count(r for r in eval(extract_entity_name(Partecipant))))"
   ]
  },
  {
   "cell_type": "code",
   "execution_count": 44,
   "id": "e4b45581-0793-41b8-bcee-466c7818fe5c",
   "metadata": {},
   "outputs": [
    {
     "data": {
      "text/plain": [
       "'2023-06-06 21:24:12.361703'"
      ]
     },
     "execution_count": 44,
     "metadata": {},
     "output_type": "execute_result"
    }
   ],
   "source": [
    "str(datetime.now())"
   ]
  },
  {
   "cell_type": "code",
   "execution_count": 45,
   "id": "ad5872ec-0dd7-42dd-b112-365ec2a22376",
   "metadata": {},
   "outputs": [],
   "source": [
    "@db_session\n",
    "def entity_display(entity_name):\n",
    "       return f'at {str(datetime.now())[:-7]} the number of instances in {entity_name} is  {count(r for r in eval(entity_name))}'"
   ]
  },
  {
   "cell_type": "code",
   "execution_count": 46,
   "id": "caca2199-5a3c-428e-9d01-afa17518b0be",
   "metadata": {},
   "outputs": [],
   "source": [
    "jobs = bg.BackgroundJobManager()\n",
    "app = dash.Dash(external_stylesheets=[dbc.themes.BOOTSTRAP])\n",
    "app.layout = layout_main"
   ]
  },
  {
   "cell_type": "code",
   "execution_count": 47,
   "id": "590a7a5a-7071-4feb-a7fc-c56b15283f97",
   "metadata": {},
   "outputs": [],
   "source": [
    "@app.callback(Output('selected_entity_output', 'children'), Input('selected_entity', 'value'))\n",
    "def display_selected_entity(entity_name):\n",
    "    if entity_name is None:\n",
    "        r = 'No Entity selected'\n",
    "    else:\n",
    "        try: \n",
    "             r = entity_display(entity_name)\n",
    "        except Exception as e:\n",
    "             r = str(e)\n",
    "    return r    "
   ]
  },
  {
   "cell_type": "code",
   "execution_count": 48,
   "id": "2133f332-54e2-492b-93b6-36fa6efc0591",
   "metadata": {},
   "outputs": [
    {
     "name": "stdout",
     "output_type": "stream",
     "text": [
      "Dash is running on http://127.0.0.1:8050/\n",
      "\n"
     ]
    },
    {
     "data": {
      "text/plain": [
       "<BackgroundJob #0: app.run_server( host='127.0.0.1', port='8050')>"
      ]
     },
     "execution_count": 48,
     "metadata": {},
     "output_type": "execute_result"
    },
    {
     "name": "stderr",
     "output_type": "stream",
     "text": [
      "INFO:dash.dash:Dash is running on http://127.0.0.1:8050/\n",
      "\n"
     ]
    },
    {
     "name": "stdout",
     "output_type": "stream",
     "text": [
      " * Serving Flask app '__main__'\n",
      " * Debug mode: off\n"
     ]
    },
    {
     "name": "stderr",
     "output_type": "stream",
     "text": [
      "INFO:werkzeug:\u001b[31m\u001b[1mWARNING: This is a development server. Do not use it in a production deployment. Use a production WSGI server instead.\u001b[0m\n",
      " * Running on http://127.0.0.1:8050\n",
      "INFO:werkzeug:\u001b[33mPress CTRL+C to quit\u001b[0m\n"
     ]
    }
   ],
   "source": [
    "jobs.new(\"app.run_server( host='127.0.0.1', port='8050')\")"
   ]
  },
  {
   "cell_type": "code",
   "execution_count": null,
   "id": "b06db5b8-2342-4b79-aca1-88505a9ff442",
   "metadata": {},
   "outputs": [
    {
     "data": {
      "text/html": [
       "\n",
       "        <iframe\n",
       "            width=\"600\"\n",
       "            height=\"970\"\n",
       "            src=\"http://127.0.0.1:8050\"\n",
       "            frameborder=\"0\"\n",
       "            allowfullscreen\n",
       "            \n",
       "        ></iframe>\n",
       "        "
      ],
      "text/plain": [
       "<IPython.lib.display.IFrame at 0x1cb729c33a0>"
      ]
     },
     "execution_count": 49,
     "metadata": {},
     "output_type": "execute_result"
    },
    {
     "name": "stderr",
     "output_type": "stream",
     "text": [
      "INFO:werkzeug:127.0.0.1 - - [06/Jun/2023 21:24:17] \"GET / HTTP/1.1\" 200 -\n",
      "INFO:werkzeug:127.0.0.1 - - [06/Jun/2023 21:24:18] \"GET /_dash-layout HTTP/1.1\" 200 -\n",
      "INFO:werkzeug:127.0.0.1 - - [06/Jun/2023 21:24:18] \"GET /_dash-dependencies HTTP/1.1\" 200 -\n",
      "INFO:werkzeug:127.0.0.1 - - [06/Jun/2023 21:24:18] \"POST /_dash-update-component HTTP/1.1\" 200 -\n",
      "INFO:werkzeug:127.0.0.1 - - [06/Jun/2023 21:24:18] \"\u001b[36mGET /_dash-component-suites/dash/dcc/async-dropdown.js HTTP/1.1\u001b[0m\" 304 -\n",
      "INFO:werkzeug:127.0.0.1 - - [06/Jun/2023 21:24:51] \"POST /_dash-update-component HTTP/1.1\" 200 -\n",
      "INFO:werkzeug:127.0.0.1 - - [06/Jun/2023 21:25:34] \"GET / HTTP/1.1\" 200 -\n",
      "INFO:werkzeug:127.0.0.1 - - [06/Jun/2023 21:25:35] \"GET /_dash-layout HTTP/1.1\" 200 -\n",
      "INFO:werkzeug:127.0.0.1 - - [06/Jun/2023 21:25:35] \"GET /_dash-dependencies HTTP/1.1\" 200 -\n",
      "INFO:werkzeug:127.0.0.1 - - [06/Jun/2023 21:25:35] \"\u001b[36mGET /_dash-component-suites/dash/dcc/async-dropdown.js HTTP/1.1\u001b[0m\" 304 -\n",
      "INFO:werkzeug:127.0.0.1 - - [06/Jun/2023 21:25:35] \"POST /_dash-update-component HTTP/1.1\" 200 -\n",
      "INFO:werkzeug:127.0.0.1 - - [06/Jun/2023 21:25:55] \"GET / HTTP/1.1\" 200 -\n",
      "INFO:werkzeug:127.0.0.1 - - [06/Jun/2023 21:25:55] \"GET /_dash-layout HTTP/1.1\" 200 -\n",
      "INFO:werkzeug:127.0.0.1 - - [06/Jun/2023 21:25:55] \"GET /_dash-dependencies HTTP/1.1\" 200 -\n",
      "INFO:werkzeug:127.0.0.1 - - [06/Jun/2023 21:25:56] \"\u001b[36mGET /_dash-component-suites/dash/dcc/async-dropdown.js HTTP/1.1\u001b[0m\" 304 -\n",
      "INFO:werkzeug:127.0.0.1 - - [06/Jun/2023 21:25:56] \"POST /_dash-update-component HTTP/1.1\" 200 -\n",
      "INFO:werkzeug:127.0.0.1 - - [06/Jun/2023 21:26:13] \"GET / HTTP/1.1\" 200 -\n",
      "INFO:werkzeug:127.0.0.1 - - [06/Jun/2023 21:26:13] \"GET /_dash-layout HTTP/1.1\" 200 -\n",
      "INFO:werkzeug:127.0.0.1 - - [06/Jun/2023 21:26:13] \"GET /_dash-dependencies HTTP/1.1\" 200 -\n",
      "INFO:werkzeug:127.0.0.1 - - [06/Jun/2023 21:26:14] \"\u001b[36mGET /_dash-component-suites/dash/dcc/async-dropdown.js HTTP/1.1\u001b[0m\" 304 -\n",
      "INFO:werkzeug:127.0.0.1 - - [06/Jun/2023 21:26:14] \"POST /_dash-update-component HTTP/1.1\" 200 -\n"
     ]
    }
   ],
   "source": [
    "WebBrowser('http://127.0.0.1:8050', width=width, height=height)"
   ]
  }
 ],
 "metadata": {
  "kernelspec": {
   "display_name": "Python 3 (ipykernel)",
   "language": "python",
   "name": "python3"
  },
  "language_info": {
   "codemirror_mode": {
    "name": "ipython",
    "version": 3
   },
   "file_extension": ".py",
   "mimetype": "text/x-python",
   "name": "python",
   "nbconvert_exporter": "python",
   "pygments_lexer": "ipython3",
   "version": "3.10.10"
  }
 },
 "nbformat": 4,
 "nbformat_minor": 5
}
