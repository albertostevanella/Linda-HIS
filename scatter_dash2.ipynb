{
 "cells": [
  {
   "cell_type": "code",
   "execution_count": 5,
   "metadata": {},
   "outputs": [],
   "source": [
    "import re\n",
    "# pid = !netstat -a -v | grep 8050\n",
    "# pid = int(re.split('\\s+', pid[0])[-4])\n",
    "# !kill {pid}\n",
    "\n",
    "import pandas as pd\n",
    "\n",
    "import jupyter_dash\n",
    "from dash import html\n",
    "import dash\n",
    "import dash_bootstrap_components as dbc\n",
    "from dash import dcc\n",
    "from dash.dependencies import Input, Output, State\n",
    "\n",
    "from IPython.lib import backgroundjobs as bg\n",
    "from IPython.display import IFrame as WebBrowser\n",
    "import plotly.express as px\n",
    "\n",
    "import calendar\n",
    "\n",
    "jobs = bg.BackgroundJobManager()\n",
    "app = dash.Dash(external_stylesheets=[dbc.themes.BOOTSTRAP])\n",
    "\n",
    "\n",
    "width = 600\n",
    "height = int(1.6180339887 * width)\n",
    "\n",
    "style_header = {\"text-align\": \"center\"}\n",
    "\n",
    "mimic_url = 'https://mimic.mit.edu/docs/iii/'\n",
    "dash_url = 'https://dash.plotly.com/'\n",
    "\n",
    "style_main_adaptive = { 'lg':{'size':6, 'offset':2}, 'md':{'size':12, 'offset':2}  } \n",
    "\n",
    "app_title = html.H1('Welcome to the DASHboard of Alberto and Linda', style = style_header)\n",
    "app_title_dash1 = html.H2('Dashboard 1', style = style_header)\n",
    "app_title_dash2 = html.H2('Dashboard 2', style = style_header)\n",
    "app_title_dash3 = html.H2('Dashboard 3', style = style_header)\n",
    "\n",
    "app_items = html.Ul([ \n",
    "                html.Li(['Source: ', html.A(mimic_url, href=mimic_url)]),\n",
    "                html.Li(['Made with : ', html.A('Plotly Dash', href=dash_url)]), \n",
    "            ]\n",
    "        )\n",
    "\n",
    "\n",
    "# mimic_tables = [ 'calories' ]\n",
    "\n",
    "# mimic_tables_attributes = {\n",
    "# 'calories': re.split('\\s+','''value float \n",
    "#             vt datetime\n",
    "#             partecipant varchar(3)''')\n",
    "\n",
    "# }\n",
    "\n",
    "\n",
    "\n",
    "from pony.orm import Database, Required, Optional, PrimaryKey, Set, select, count, db_session\n",
    "from  datetime import datetime,date\n",
    "import psycopg2\n",
    "\n",
    "#Connessione al DB !RIcordarsi di far andare il server!\n",
    "DB = Database()\n",
    "DB.bind(provider='postgres', \n",
    "        database='postgres',\n",
    "        user='postgres', \n",
    "        port='5433',  #Linda: 5432\n",
    "        host='localhost',\n",
    "        password='admin'\n",
    "        )\n",
    "\n",
    "class Partecipant(DB.Entity):\n",
    "    _table_  = 'partecipant'\n",
    "    name = PrimaryKey(str)\n",
    "    age  = Optional(int)\n",
    "    height = Optional(int)\n",
    "    gender = Optional(str)\n",
    "    max_heart_rate = Optional(int)\n",
    "    group = Optional(str)\n",
    "    base_line_cal = Optional(float)\n",
    "    calories = Set('Calories')\n",
    "    BPM = Set('BPM')\n",
    "    exercises = Set('Exercises')\n",
    "    sleep = Set('Sleep')\n",
    "    day = Set('Day')\n",
    "\n",
    "class Calories(DB.Entity):\n",
    "    _table_ = 'calories'\n",
    "    value = Required(float)\n",
    "    vt = Required(datetime)\n",
    "    partecipant = Required(Partecipant)\n",
    "    PrimaryKey(partecipant, vt)\n",
    "    \n",
    "class Admission(DB.Entity):\n",
    "    _table_ = \"admissions\"\n",
    "    row_id = PrimaryKey(int)\n",
    "    vts = Optional(datetime, column=\"admittime\")\n",
    "    adm_type = Optional(str, column=\"admission_type\")\n",
    "    location = Optional(str, column=\"admission_location\")\n",
    "    patient = Optional('Patient', column='subject_id')\n",
    "\n",
    "class BPM(DB.Entity):\n",
    "    _table_ = 'bpm'\n",
    "    vt = Required(datetime)\n",
    "    value = Optional(int)\n",
    "    confidence = Optional(int)\n",
    "    partecipant = Required(Partecipant)\n",
    "    PrimaryKey(partecipant, vt)\n",
    "\n",
    "class Exercises(DB.Entity):\n",
    "    _table_ = \"exercises\"\n",
    "    vt = Required(datetime)\n",
    "    partecipant = Required(Partecipant)\n",
    "    # attributes of the json\n",
    "    activityName = Required(str)\n",
    "    avg_BPM = Optional(float)\n",
    "    calories = Optional(int)\n",
    "    duration = Optional(int)\n",
    "    steps = Optional(float)\n",
    "    elevationGain = Optional(float)\n",
    "    PrimaryKey(vt, partecipant)\n",
    "\n",
    "class Sleep(DB.Entity):\n",
    "    _table_ =\"sleep\"\n",
    "    vt = Required(datetime)\n",
    "    partecipant = Required(Partecipant)\n",
    "    # attributes of the json\n",
    "    duration = Optional(float)\n",
    "    endTime = Optional(datetime)\n",
    "    minutesAsleep = Optional(int)\n",
    "    types = Optional(str)\n",
    "    efficiency = Optional(int)\n",
    "    PrimaryKey(partecipant, vt)\n",
    "\n",
    "class Day(DB.Entity):\n",
    "    _tabel_ = \"day\"\n",
    "    vt = Required(datetime)\n",
    "    partecipant = Required(Partecipant)\n",
    "    PrimaryKey(partecipant, vt)\n",
    "    n_lightly_active_minutes = Optional(int)\n",
    "    n_moderately_active_minutes = Optional(int)\n",
    "    f_resting_heart_rate = Optional(float)\n",
    "    n_sedentary_minutes = Optional(int)\n",
    "    n_very_active_minutes = Optional(int)\n",
    "    n_overall_score = Optional(int)\n",
    "    n_composition_score = Optional(int)\n",
    "    n_revitalization_score = Optional(int)\n",
    "    n_duration_score = Optional(int)\n",
    "    n_deep_sleep_in_minutes = Optional(int)\n",
    "    f_time_in_heart_rate_BELOW_DEFAULT_ZONE_1 = Optional(float)\n",
    "    f_time_in_heart_rate_zone_1 = Optional(float)\n",
    "    f_time_in_heart_rate_zone_2 = Optional(float)\n",
    "    f_time_in_heart_rate_zone_3 = Optional(float)\n",
    "    \n",
    "class Patient(DB.Entity):\n",
    "    _table_ = \"patients\"\n",
    "    row_id = PrimaryKey(int)\n",
    "    admission = Set(Admission)\n",
    "    gender = Optional(str)\n",
    "    \n",
    "class Prescription(DB.Entity):\n",
    "    _table_ = \"prescriptions\"\n",
    "    row_id = PrimaryKey(int)    \n",
    "\n",
    "\n",
    "DB.generate_mapping()\n",
    "\n",
    "def extract_entity_name(entity):\n",
    "    return re.split('\\.|\"|\\'', str(entity))[-2]\n",
    "    \n",
    "\n",
    "\n",
    "\n",
    "count(r for r in eval(extract_entity_name(Calories)))\n",
    "\n",
    "str(datetime.now())\n",
    "\n",
    "\n",
    "\n",
    "# @db_session\n",
    "# def entity_display(entity_name):\n",
    "#        return f'at {str(datetime.now())[:-7]} the number of instances in {entity_name} is  {count(r for r in eval(entity_name))}'\n",
    "\n",
    "# entity_display('Calories')\n",
    "\n",
    "# jobs = bg.BackgroundJobManager()\n",
    "app = dash.Dash(external_stylesheets=[dbc.themes.BOOTSTRAP])\n",
    "\n",
    "# @app.callback(Output('selected_entity_output', 'children'), Input('selected_entity', 'value'))\n",
    "# def display_selected_entity(entity_name):\n",
    "#     if entity_name is None:\n",
    "#         r = 'No Entity selected'\n",
    "#     else:\n",
    "#         try: \n",
    "#              r = entity_display(entity_name)\n",
    "#         except Exception as e:\n",
    "#              r = str(e)\n",
    "#     return r    "
   ]
  },
  {
   "cell_type": "code",
   "execution_count": 6,
   "metadata": {},
   "outputs": [],
   "source": [
    "import dash\n",
    "from dash import dcc, html\n",
    "from dash.dependencies import Input, Output\n",
    "from pony.orm import db_session, select\n",
    "from flask import Flask\n",
    "\n",
    "app = dash.Dash(external_stylesheets=[dbc.themes.BOOTSTRAP])\n",
    "\n",
    "\n"
   ]
  },
  {
   "cell_type": "code",
   "execution_count": 7,
   "metadata": {},
   "outputs": [
    {
     "name": "stdout",
     "output_type": "stream",
     "text": [
      "                 Data  Year  Month Activity name    Bpm   Cal Partecipant  Age\n",
      "0 2019-11-07 09:04:11  2019     11          Walk  104.0   202         p07   26\n",
      "1 2019-11-07 16:08:50  2019     11       Workout  134.0   746         p07   26\n",
      "2 2019-11-09 09:21:55  2019     11       Workout  144.0  1543         p07   26\n",
      "3 2019-11-09 12:07:33  2019     11       Workout  137.0  1568         p07   26\n"
     ]
    },
    {
     "data": {
      "application/vnd.plotly.v1+json": {
       "config": {
        "plotlyServerURL": "https://plot.ly"
       },
       "data": [
        {
         "hovertemplate": "Partecipant=p07<br>Data=%{x}<br>Bpm=%{y}<br>Cal=%{marker.size}<extra></extra>",
         "legendgroup": "p07",
         "marker": {
          "color": "#636efa",
          "size": [
           202,
           746,
           1543,
           1568
          ],
          "sizemode": "area",
          "sizeref": 3.92,
          "symbol": "circle"
         },
         "mode": "markers",
         "name": "p07",
         "orientation": "v",
         "showlegend": true,
         "type": "scatter",
         "x": [
          "2019-11-07T09:04:11",
          "2019-11-07T16:08:50",
          "2019-11-09T09:21:55",
          "2019-11-09T12:07:33"
         ],
         "xaxis": "x",
         "y": [
          104,
          134,
          144,
          137
         ],
         "yaxis": "y"
        },
        {
         "hovertemplate": "Partecipant=p07<br>Data=%{x}<br>Bpm=%{y}<extra></extra>",
         "legendgroup": "p07",
         "line": {
          "color": "#636efa",
          "dash": "solid"
         },
         "marker": {
          "symbol": "circle"
         },
         "mode": "markers+lines",
         "name": "p07",
         "orientation": "v",
         "showlegend": false,
         "type": "scatter",
         "x": [
          "2019-11-07T09:04:11",
          "2019-11-07T16:08:50",
          "2019-11-09T09:21:55",
          "2019-11-09T12:07:33"
         ],
         "xaxis": "x",
         "y": [
          104,
          134,
          144,
          137
         ],
         "yaxis": "y"
        }
       ],
       "layout": {
        "legend": {
         "itemsizing": "constant",
         "title": {
          "text": "Partecipant"
         },
         "tracegroupgap": 0
        },
        "margin": {
         "t": 60
        },
        "template": {
         "data": {
          "bar": [
           {
            "error_x": {
             "color": "#2a3f5f"
            },
            "error_y": {
             "color": "#2a3f5f"
            },
            "marker": {
             "line": {
              "color": "#E5ECF6",
              "width": 0.5
             },
             "pattern": {
              "fillmode": "overlay",
              "size": 10,
              "solidity": 0.2
             }
            },
            "type": "bar"
           }
          ],
          "barpolar": [
           {
            "marker": {
             "line": {
              "color": "#E5ECF6",
              "width": 0.5
             },
             "pattern": {
              "fillmode": "overlay",
              "size": 10,
              "solidity": 0.2
             }
            },
            "type": "barpolar"
           }
          ],
          "carpet": [
           {
            "aaxis": {
             "endlinecolor": "#2a3f5f",
             "gridcolor": "white",
             "linecolor": "white",
             "minorgridcolor": "white",
             "startlinecolor": "#2a3f5f"
            },
            "baxis": {
             "endlinecolor": "#2a3f5f",
             "gridcolor": "white",
             "linecolor": "white",
             "minorgridcolor": "white",
             "startlinecolor": "#2a3f5f"
            },
            "type": "carpet"
           }
          ],
          "choropleth": [
           {
            "colorbar": {
             "outlinewidth": 0,
             "ticks": ""
            },
            "type": "choropleth"
           }
          ],
          "contour": [
           {
            "colorbar": {
             "outlinewidth": 0,
             "ticks": ""
            },
            "colorscale": [
             [
              0,
              "#0d0887"
             ],
             [
              0.1111111111111111,
              "#46039f"
             ],
             [
              0.2222222222222222,
              "#7201a8"
             ],
             [
              0.3333333333333333,
              "#9c179e"
             ],
             [
              0.4444444444444444,
              "#bd3786"
             ],
             [
              0.5555555555555556,
              "#d8576b"
             ],
             [
              0.6666666666666666,
              "#ed7953"
             ],
             [
              0.7777777777777778,
              "#fb9f3a"
             ],
             [
              0.8888888888888888,
              "#fdca26"
             ],
             [
              1,
              "#f0f921"
             ]
            ],
            "type": "contour"
           }
          ],
          "contourcarpet": [
           {
            "colorbar": {
             "outlinewidth": 0,
             "ticks": ""
            },
            "type": "contourcarpet"
           }
          ],
          "heatmap": [
           {
            "colorbar": {
             "outlinewidth": 0,
             "ticks": ""
            },
            "colorscale": [
             [
              0,
              "#0d0887"
             ],
             [
              0.1111111111111111,
              "#46039f"
             ],
             [
              0.2222222222222222,
              "#7201a8"
             ],
             [
              0.3333333333333333,
              "#9c179e"
             ],
             [
              0.4444444444444444,
              "#bd3786"
             ],
             [
              0.5555555555555556,
              "#d8576b"
             ],
             [
              0.6666666666666666,
              "#ed7953"
             ],
             [
              0.7777777777777778,
              "#fb9f3a"
             ],
             [
              0.8888888888888888,
              "#fdca26"
             ],
             [
              1,
              "#f0f921"
             ]
            ],
            "type": "heatmap"
           }
          ],
          "heatmapgl": [
           {
            "colorbar": {
             "outlinewidth": 0,
             "ticks": ""
            },
            "colorscale": [
             [
              0,
              "#0d0887"
             ],
             [
              0.1111111111111111,
              "#46039f"
             ],
             [
              0.2222222222222222,
              "#7201a8"
             ],
             [
              0.3333333333333333,
              "#9c179e"
             ],
             [
              0.4444444444444444,
              "#bd3786"
             ],
             [
              0.5555555555555556,
              "#d8576b"
             ],
             [
              0.6666666666666666,
              "#ed7953"
             ],
             [
              0.7777777777777778,
              "#fb9f3a"
             ],
             [
              0.8888888888888888,
              "#fdca26"
             ],
             [
              1,
              "#f0f921"
             ]
            ],
            "type": "heatmapgl"
           }
          ],
          "histogram": [
           {
            "marker": {
             "pattern": {
              "fillmode": "overlay",
              "size": 10,
              "solidity": 0.2
             }
            },
            "type": "histogram"
           }
          ],
          "histogram2d": [
           {
            "colorbar": {
             "outlinewidth": 0,
             "ticks": ""
            },
            "colorscale": [
             [
              0,
              "#0d0887"
             ],
             [
              0.1111111111111111,
              "#46039f"
             ],
             [
              0.2222222222222222,
              "#7201a8"
             ],
             [
              0.3333333333333333,
              "#9c179e"
             ],
             [
              0.4444444444444444,
              "#bd3786"
             ],
             [
              0.5555555555555556,
              "#d8576b"
             ],
             [
              0.6666666666666666,
              "#ed7953"
             ],
             [
              0.7777777777777778,
              "#fb9f3a"
             ],
             [
              0.8888888888888888,
              "#fdca26"
             ],
             [
              1,
              "#f0f921"
             ]
            ],
            "type": "histogram2d"
           }
          ],
          "histogram2dcontour": [
           {
            "colorbar": {
             "outlinewidth": 0,
             "ticks": ""
            },
            "colorscale": [
             [
              0,
              "#0d0887"
             ],
             [
              0.1111111111111111,
              "#46039f"
             ],
             [
              0.2222222222222222,
              "#7201a8"
             ],
             [
              0.3333333333333333,
              "#9c179e"
             ],
             [
              0.4444444444444444,
              "#bd3786"
             ],
             [
              0.5555555555555556,
              "#d8576b"
             ],
             [
              0.6666666666666666,
              "#ed7953"
             ],
             [
              0.7777777777777778,
              "#fb9f3a"
             ],
             [
              0.8888888888888888,
              "#fdca26"
             ],
             [
              1,
              "#f0f921"
             ]
            ],
            "type": "histogram2dcontour"
           }
          ],
          "mesh3d": [
           {
            "colorbar": {
             "outlinewidth": 0,
             "ticks": ""
            },
            "type": "mesh3d"
           }
          ],
          "parcoords": [
           {
            "line": {
             "colorbar": {
              "outlinewidth": 0,
              "ticks": ""
             }
            },
            "type": "parcoords"
           }
          ],
          "pie": [
           {
            "automargin": true,
            "type": "pie"
           }
          ],
          "scatter": [
           {
            "fillpattern": {
             "fillmode": "overlay",
             "size": 10,
             "solidity": 0.2
            },
            "type": "scatter"
           }
          ],
          "scatter3d": [
           {
            "line": {
             "colorbar": {
              "outlinewidth": 0,
              "ticks": ""
             }
            },
            "marker": {
             "colorbar": {
              "outlinewidth": 0,
              "ticks": ""
             }
            },
            "type": "scatter3d"
           }
          ],
          "scattercarpet": [
           {
            "marker": {
             "colorbar": {
              "outlinewidth": 0,
              "ticks": ""
             }
            },
            "type": "scattercarpet"
           }
          ],
          "scattergeo": [
           {
            "marker": {
             "colorbar": {
              "outlinewidth": 0,
              "ticks": ""
             }
            },
            "type": "scattergeo"
           }
          ],
          "scattergl": [
           {
            "marker": {
             "colorbar": {
              "outlinewidth": 0,
              "ticks": ""
             }
            },
            "type": "scattergl"
           }
          ],
          "scattermapbox": [
           {
            "marker": {
             "colorbar": {
              "outlinewidth": 0,
              "ticks": ""
             }
            },
            "type": "scattermapbox"
           }
          ],
          "scatterpolar": [
           {
            "marker": {
             "colorbar": {
              "outlinewidth": 0,
              "ticks": ""
             }
            },
            "type": "scatterpolar"
           }
          ],
          "scatterpolargl": [
           {
            "marker": {
             "colorbar": {
              "outlinewidth": 0,
              "ticks": ""
             }
            },
            "type": "scatterpolargl"
           }
          ],
          "scatterternary": [
           {
            "marker": {
             "colorbar": {
              "outlinewidth": 0,
              "ticks": ""
             }
            },
            "type": "scatterternary"
           }
          ],
          "surface": [
           {
            "colorbar": {
             "outlinewidth": 0,
             "ticks": ""
            },
            "colorscale": [
             [
              0,
              "#0d0887"
             ],
             [
              0.1111111111111111,
              "#46039f"
             ],
             [
              0.2222222222222222,
              "#7201a8"
             ],
             [
              0.3333333333333333,
              "#9c179e"
             ],
             [
              0.4444444444444444,
              "#bd3786"
             ],
             [
              0.5555555555555556,
              "#d8576b"
             ],
             [
              0.6666666666666666,
              "#ed7953"
             ],
             [
              0.7777777777777778,
              "#fb9f3a"
             ],
             [
              0.8888888888888888,
              "#fdca26"
             ],
             [
              1,
              "#f0f921"
             ]
            ],
            "type": "surface"
           }
          ],
          "table": [
           {
            "cells": {
             "fill": {
              "color": "#EBF0F8"
             },
             "line": {
              "color": "white"
             }
            },
            "header": {
             "fill": {
              "color": "#C8D4E3"
             },
             "line": {
              "color": "white"
             }
            },
            "type": "table"
           }
          ]
         },
         "layout": {
          "annotationdefaults": {
           "arrowcolor": "#2a3f5f",
           "arrowhead": 0,
           "arrowwidth": 1
          },
          "autotypenumbers": "strict",
          "coloraxis": {
           "colorbar": {
            "outlinewidth": 0,
            "ticks": ""
           }
          },
          "colorscale": {
           "diverging": [
            [
             0,
             "#8e0152"
            ],
            [
             0.1,
             "#c51b7d"
            ],
            [
             0.2,
             "#de77ae"
            ],
            [
             0.3,
             "#f1b6da"
            ],
            [
             0.4,
             "#fde0ef"
            ],
            [
             0.5,
             "#f7f7f7"
            ],
            [
             0.6,
             "#e6f5d0"
            ],
            [
             0.7,
             "#b8e186"
            ],
            [
             0.8,
             "#7fbc41"
            ],
            [
             0.9,
             "#4d9221"
            ],
            [
             1,
             "#276419"
            ]
           ],
           "sequential": [
            [
             0,
             "#0d0887"
            ],
            [
             0.1111111111111111,
             "#46039f"
            ],
            [
             0.2222222222222222,
             "#7201a8"
            ],
            [
             0.3333333333333333,
             "#9c179e"
            ],
            [
             0.4444444444444444,
             "#bd3786"
            ],
            [
             0.5555555555555556,
             "#d8576b"
            ],
            [
             0.6666666666666666,
             "#ed7953"
            ],
            [
             0.7777777777777778,
             "#fb9f3a"
            ],
            [
             0.8888888888888888,
             "#fdca26"
            ],
            [
             1,
             "#f0f921"
            ]
           ],
           "sequentialminus": [
            [
             0,
             "#0d0887"
            ],
            [
             0.1111111111111111,
             "#46039f"
            ],
            [
             0.2222222222222222,
             "#7201a8"
            ],
            [
             0.3333333333333333,
             "#9c179e"
            ],
            [
             0.4444444444444444,
             "#bd3786"
            ],
            [
             0.5555555555555556,
             "#d8576b"
            ],
            [
             0.6666666666666666,
             "#ed7953"
            ],
            [
             0.7777777777777778,
             "#fb9f3a"
            ],
            [
             0.8888888888888888,
             "#fdca26"
            ],
            [
             1,
             "#f0f921"
            ]
           ]
          },
          "colorway": [
           "#636efa",
           "#EF553B",
           "#00cc96",
           "#ab63fa",
           "#FFA15A",
           "#19d3f3",
           "#FF6692",
           "#B6E880",
           "#FF97FF",
           "#FECB52"
          ],
          "font": {
           "color": "#2a3f5f"
          },
          "geo": {
           "bgcolor": "white",
           "lakecolor": "white",
           "landcolor": "#E5ECF6",
           "showlakes": true,
           "showland": true,
           "subunitcolor": "white"
          },
          "hoverlabel": {
           "align": "left"
          },
          "hovermode": "closest",
          "mapbox": {
           "style": "light"
          },
          "paper_bgcolor": "white",
          "plot_bgcolor": "#E5ECF6",
          "polar": {
           "angularaxis": {
            "gridcolor": "white",
            "linecolor": "white",
            "ticks": ""
           },
           "bgcolor": "#E5ECF6",
           "radialaxis": {
            "gridcolor": "white",
            "linecolor": "white",
            "ticks": ""
           }
          },
          "scene": {
           "xaxis": {
            "backgroundcolor": "#E5ECF6",
            "gridcolor": "white",
            "gridwidth": 2,
            "linecolor": "white",
            "showbackground": true,
            "ticks": "",
            "zerolinecolor": "white"
           },
           "yaxis": {
            "backgroundcolor": "#E5ECF6",
            "gridcolor": "white",
            "gridwidth": 2,
            "linecolor": "white",
            "showbackground": true,
            "ticks": "",
            "zerolinecolor": "white"
           },
           "zaxis": {
            "backgroundcolor": "#E5ECF6",
            "gridcolor": "white",
            "gridwidth": 2,
            "linecolor": "white",
            "showbackground": true,
            "ticks": "",
            "zerolinecolor": "white"
           }
          },
          "shapedefaults": {
           "line": {
            "color": "#2a3f5f"
           }
          },
          "ternary": {
           "aaxis": {
            "gridcolor": "white",
            "linecolor": "white",
            "ticks": ""
           },
           "baxis": {
            "gridcolor": "white",
            "linecolor": "white",
            "ticks": ""
           },
           "bgcolor": "#E5ECF6",
           "caxis": {
            "gridcolor": "white",
            "linecolor": "white",
            "ticks": ""
           }
          },
          "title": {
           "x": 0.05
          },
          "xaxis": {
           "automargin": true,
           "gridcolor": "white",
           "linecolor": "white",
           "ticks": "",
           "title": {
            "standoff": 15
           },
           "zerolinecolor": "white",
           "zerolinewidth": 2
          },
          "yaxis": {
           "automargin": true,
           "gridcolor": "white",
           "linecolor": "white",
           "ticks": "",
           "title": {
            "standoff": 15
           },
           "zerolinecolor": "white",
           "zerolinewidth": 2
          }
         }
        },
        "xaxis": {
         "anchor": "y",
         "domain": [
          0,
          1
         ],
         "title": {
          "text": "Data"
         }
        },
        "yaxis": {
         "anchor": "x",
         "domain": [
          0,
          1
         ],
         "title": {
          "text": "Bpm"
         }
        }
       }
      }
     },
     "metadata": {},
     "output_type": "display_data"
    }
   ],
   "source": [
    "import plotly.express as px\n",
    "@db_session\n",
    "def scatter_by_month(year = None, month = None):\n",
    "    data = list(select( \n",
    "        ((a.vt, a.vt.date().year, a.vt.date().month, a.activityName, a.avg_BPM, a.calories, c.name, c.age) for a in Exercises\n",
    "        for c in Partecipant \n",
    "        if a.partecipant == c\n",
    "        )\n",
    "        ))\n",
    "    data.sort(key=lambda x: [x[0]])   \n",
    "    data\n",
    "    df = pd.DataFrame(data, columns=['Data', 'Year', 'Month','Activity name','Bpm','Cal','Partecipant','Age'])\n",
    "    df = df[ df[\"Year\"] == year] if year != None else df\n",
    "    df = df[ df[\"Month\"] == month] if month != None else df\n",
    "    print(df)\n",
    "\n",
    "    fig = px.scatter(\n",
    "        data_frame = df,\n",
    "        x = \"Data\",\n",
    "        y= \"Bpm\",\n",
    "        size= \"Cal\",\n",
    "        color = 'Partecipant',\n",
    "        # animation_frame= \"Age\",\n",
    "        \n",
    "        # facet_col= \"Gender\"\n",
    "    )\n",
    "\n",
    "    fig2 = px.line(df, x='Data', y='Bpm', color='Partecipant', markers=True)\n",
    "    fig2.update_layout(showlegend = False)\n",
    "\n",
    "    fig2.for_each_trace(\n",
    "        lambda trace:\n",
    "        trace.update(showlegend = False)\n",
    "    )\n",
    "\n",
    "    # fig.add_trace(fig2.data[0], )\n",
    "    for t in fig2.data:\n",
    "        fig.add_trace(t)\n",
    "\n",
    "    # fig.show()\n",
    "    return fig\n",
    "\n",
    "scatter_by_month(2019,11)"
   ]
  },
  {
   "cell_type": "code",
   "execution_count": 8,
   "metadata": {},
   "outputs": [],
   "source": [
    "@db_session\n",
    "def get_available_years():\n",
    "    # Query per ottenere gli anni disponibili dal database utilizzando Pony ORM\n",
    "    years = list(select((y.vt.date().year) for y in Exercises))\n",
    "    return years\n",
    "\n",
    "@db_session\n",
    "def get_available_months(year):\n",
    "    # Query per ottenere i mesi disponibili dal database per l'anno selezionato utilizzando Pony ORM\n",
    "    months = list(select(m.vt.date().month for m in Exercises if m.vt.date().year == year))\n",
    "    return months\n",
    "\n",
    "\n",
    "app.layout = html.Div([\n",
    "    dcc.Dropdown(\n",
    "        id='year-dropdown',\n",
    "        options=[{'label': str(year), 'value': year} for year in get_available_years()],\n",
    "        placeholder='Select a year...'\n",
    "    ),\n",
    "    html.Div(id='month-buttons'),\n",
    "    html.Div(id='selected-info')  # Div per visualizzare l'anno e il mese selezionati\n",
    "    # dcc.Graph(id='scatter-plot')\n",
    "])\n",
    "\n",
    "@app.callback(\n",
    "    Output('month-buttons', 'children'),\n",
    "    [Input('year-dropdown', 'value')]\n",
    ")\n",
    "def update_month_buttons(year):\n",
    "    if year is None:\n",
    "        return []\n",
    "\n",
    "    months = get_available_months(year)\n",
    "\n",
    "    buttons = [\n",
    "        dbc.Button(f'{calendar.month_name[month]}', id=f'month-buttons-{month}',className=\"mx-3 mt-3\", n_clicks=0 )\n",
    "        for month in months\n",
    "    ]\n",
    "\n",
    "    return buttons\n",
    "\n",
    "@app.callback(\n",
    "    Output('selected-info', 'children'),\n",
    "    [Input(f'month-button-{month}', 'n_clicks') for month in range(1, 13)],\n",
    "    [State('year-dropdown', 'value')]\n",
    ")\n",
    "def update_selected_info(*args):\n",
    "    month_clicked = [month for month, n_clicks in enumerate(args, start=1) if n_clicks > 0]\n",
    "    \n",
    "    if len(month_clicked) == 0:\n",
    "        return []\n",
    "    print(month_clicked)\n",
    "    year = app.callback_context.states['year-dropdown.value']\n",
    "    month = month_clicked[0]\n",
    "\n",
    "    return f\"Anno selezionato: {year}, Mese selezionato: {month}\"\n",
    "\n",
    "\n",
    "@app.callback(\n",
    "    Output('scatter-plot', 'figure'),\n",
    "    [Input(f'month-button-{month}', 'n_clicks') for month in range(1, 13)]\n",
    ")\n",
    "def update_scatter_plot(*args):\n",
    "    month_clicked = [month for month, n_clicks in enumerate(args, start=1) if n_clicks > 0]\n",
    "    if len(month_clicked) == 0:\n",
    "        return {}\n",
    "\n",
    "    month_clicked = [month for month, n_clicks in enumerate(args, start=1) if n_clicks > 0]\n",
    "    if len(month_clicked) == 0:\n",
    "        return scatter_by_month()\n",
    "    \n",
    "    year = app.callback_context.inputs['year-dropdown.value']\n",
    "    month = month_clicked[0]\n",
    "    print(year, month)\n",
    "\n",
    "    if year != None and month != None:\n",
    "        fig = scatter_by_month(year, month)\n",
    "    else:\n",
    "        fig = scatter_by_month()\n",
    "        \n",
    "    return fig"
   ]
  },
  {
   "cell_type": "code",
   "execution_count": 9,
   "metadata": {},
   "outputs": [
    {
     "name": "stdout",
     "output_type": "stream",
     "text": [
      "Dash is running on http://127.0.0.1:8050/\n",
      "\n",
      " * Serving Flask app '__main__'\n",
      " * Debug mode: off\n"
     ]
    },
    {
     "name": "stderr",
     "output_type": "stream",
     "text": [
      "WARNING: This is a development server. Do not use it in a production deployment. Use a production WSGI server instead.\n",
      " * Running on http://127.0.0.1:8050\n",
      "Press CTRL+C to quit\n",
      "127.0.0.1 - - [22/Jun/2023 14:33:49] \"GET / HTTP/1.1\" 200 -\n",
      "127.0.0.1 - - [22/Jun/2023 14:33:49] \"GET /_dash-layout HTTP/1.1\" 200 -\n",
      "127.0.0.1 - - [22/Jun/2023 14:33:49] \"GET /_dash-dependencies HTTP/1.1\" 200 -\n",
      "127.0.0.1 - - [22/Jun/2023 14:33:50] \"GET /_dash-component-suites/dash/dcc/async-dropdown.js HTTP/1.1\" 304 -\n",
      "127.0.0.1 - - [22/Jun/2023 14:33:50] \"POST /_dash-update-component HTTP/1.1\" 200 -\n",
      "127.0.0.1 - - [22/Jun/2023 14:33:51] \"POST /_dash-update-component HTTP/1.1\" 200 -\n"
     ]
    }
   ],
   "source": [
    "app.run_server( host='127.0.0.1', port='8050')"
   ]
  },
  {
   "cell_type": "code",
   "execution_count": null,
   "metadata": {},
   "outputs": [],
   "source": [
    "WebBrowser('http://127.0.0.1:8050', width=width, height=height)"
   ]
  }
 ],
 "metadata": {
  "kernelspec": {
   "display_name": "Python 3",
   "language": "python",
   "name": "python3"
  },
  "language_info": {
   "codemirror_mode": {
    "name": "ipython",
    "version": 3
   },
   "file_extension": ".py",
   "mimetype": "text/x-python",
   "name": "python",
   "nbconvert_exporter": "python",
   "pygments_lexer": "ipython3",
   "version": "3.10.10"
  },
  "orig_nbformat": 4
 },
 "nbformat": 4,
 "nbformat_minor": 2
}
