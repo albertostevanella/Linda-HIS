{
 "cells": [
  {
   "cell_type": "code",
   "execution_count": 9,
   "metadata": {},
   "outputs": [],
   "source": [
    "import re\n",
    "# pid = !netstat -a -v | grep 8050\n",
    "# pid = int(re.split('\\s+', pid[0])[-4])\n",
    "# !kill {pid}\n",
    "\n",
    "import pandas as pd\n",
    "\n",
    "import jupyter_dash\n",
    "from dash import html\n",
    "import dash\n",
    "import dash_bootstrap_components as dbc\n",
    "from dash import dcc\n",
    "from dash.dependencies import Input, Output\n",
    "\n",
    "from IPython.lib import backgroundjobs as bg\n",
    "from IPython.display import IFrame as WebBrowser\n",
    "import plotly.express as px\n",
    "\n",
    "jobs = bg.BackgroundJobManager()\n",
    "app = dash.Dash(external_stylesheets=[dbc.themes.BOOTSTRAP])\n",
    "\n",
    "\n",
    "width = 700\n",
    "height = int(1.6180339887 * width)\n",
    "\n",
    "style_header = {\"text-align\": \"center\"}\n",
    "style_subtitle = {\"font-style\": \"italic\", \"color\":\"grey\"}\n",
    "\n",
    "mimic_url = 'https://mimic.mit.edu/docs/iii/'\n",
    "dash_url = 'https://dash.plotly.com/'\n",
    "\n",
    "style_main_adaptive = { 'lg':{'size':8, 'offset':2}, 'md':{'size':12, 'offset':2}  } \n",
    "\n",
    "app_title = html.H1('Welcome to the dashboard page of HIS exam', style = style_header)\n",
    "app_p = html.P('We choose to implement an html page written in python with bootstrap that permits to visualize pmdata dataset stored previously on the database with ORM. We implement 3 different types of dashboard, each with a callback function to filter data visualized:')\n",
    "app_title_dash1 = html.H2('PIE GRAPH - Dashboard 1')\n",
    "subtitle_dash1 = html.H4('Visualize the minutes in different activity for partecipants', style = style_subtitle)\n",
    "\n",
    "app_title_dash2 = html.H2('BAR GRAPH - Dashboard 2')\n",
    "subtitle_dash2 = html.H4('Visualize the minutes in different activity for every partecipant in the selected age range', style = style_subtitle)\n",
    "\n",
    "app_title_dash3 = html.H2('SCATTER GRAPH - Dashboard 3')\n",
    "subtitle_dash3 = html.H4('Visualize the bpm scatter over vt and the number of calories as dimension of the dots', style = style_subtitle)\n",
    "\n",
    "app_items = html.Ul([ \n",
    "                html.Li(['Pie graph']),\n",
    "                html.Li(['Bar graph']),\n",
    "                html.Li(['Scatter graph']) \n",
    "            ]\n",
    "        )\n",
    "hr = html.Hr()\n",
    "\n",
    "\n",
    "from pony.orm import Database, Required, Optional, PrimaryKey, Set, select, count, db_session\n",
    "from  datetime import datetime,date\n",
    "import psycopg2\n",
    "\n",
    "#Connessione al DB !RIcordarsi di far andare il server!\n",
    "DB = Database()\n",
    "DB.bind(provider='postgres', \n",
    "        database='postgres',\n",
    "        user='postgres', \n",
    "        port='5433',  #Linda: 5432\n",
    "        host='localhost',\n",
    "        password='admin'\n",
    "        )\n",
    "\n",
    "class Partecipant(DB.Entity):\n",
    "    _table_  = 'partecipant'\n",
    "    name = PrimaryKey(str)\n",
    "    age  = Optional(int)\n",
    "    height = Optional(int)\n",
    "    gender = Optional(str)\n",
    "    max_heart_rate = Optional(int)\n",
    "    group = Optional(str)\n",
    "    base_line_cal = Optional(float)\n",
    "    calories = Set('Calories')\n",
    "    BPM = Set('BPM')\n",
    "    exercises = Set('Exercises')\n",
    "    sleep = Set('Sleep')\n",
    "    day = Set('Day')\n",
    "\n",
    "class Calories(DB.Entity):\n",
    "    _table_ = 'calories'\n",
    "    value = Required(float)\n",
    "    vt = Required(datetime)\n",
    "    partecipant = Required(Partecipant)\n",
    "    PrimaryKey(partecipant, vt)\n",
    "    \n",
    "class BPM(DB.Entity):\n",
    "    _table_ = 'bpm'\n",
    "    vt = Required(datetime)\n",
    "    value = Optional(int)\n",
    "    confidence = Optional(int)\n",
    "    partecipant = Required(Partecipant)\n",
    "    PrimaryKey(partecipant, vt)\n",
    "\n",
    "class Exercises(DB.Entity):\n",
    "    _table_ = \"exercises\"\n",
    "    vt = Required(datetime)\n",
    "    partecipant = Required(Partecipant)\n",
    "    # attributes of the json\n",
    "    activityName = Required(str)\n",
    "    avg_BPM = Optional(float)\n",
    "    calories = Optional(int)\n",
    "    duration = Optional(int)\n",
    "    steps = Optional(float)\n",
    "    elevationGain = Optional(float)\n",
    "    PrimaryKey(vt, partecipant)\n",
    "\n",
    "class Sleep(DB.Entity):\n",
    "    _table_ =\"sleep\"\n",
    "    vt = Required(datetime)\n",
    "    partecipant = Required(Partecipant)\n",
    "    # attributes of the json\n",
    "    duration = Optional(float)\n",
    "    endTime = Optional(datetime)\n",
    "    minutesAsleep = Optional(int)\n",
    "    types = Optional(str)\n",
    "    efficiency = Optional(int)\n",
    "    PrimaryKey(partecipant, vt)\n",
    "\n",
    "class Day(DB.Entity):\n",
    "    _tabel_ = \"day\"\n",
    "    vt = Required(datetime)\n",
    "    partecipant = Required(Partecipant)\n",
    "    PrimaryKey(partecipant, vt)\n",
    "    n_lightly_active_minutes = Optional(int)\n",
    "    n_moderately_active_minutes = Optional(int)\n",
    "    f_resting_heart_rate = Optional(float)\n",
    "    n_sedentary_minutes = Optional(int)\n",
    "    n_very_active_minutes = Optional(int)\n",
    "    n_overall_score = Optional(int)\n",
    "    n_composition_score = Optional(int)\n",
    "    n_revitalization_score = Optional(int)\n",
    "    n_duration_score = Optional(int)\n",
    "    n_deep_sleep_in_minutes = Optional(int)\n",
    "    f_time_in_heart_rate_BELOW_DEFAULT_ZONE_1 = Optional(float)\n",
    "    f_time_in_heart_rate_zone_1 = Optional(float)\n",
    "    f_time_in_heart_rate_zone_2 = Optional(float)\n",
    "    f_time_in_heart_rate_zone_3 = Optional(float)\n",
    "    \n",
    "\n",
    "DB.generate_mapping()\n",
    "\n",
    "def extract_entity_name(entity):\n",
    "    return re.split('\\.|\"|\\'', str(entity))[-2]\n",
    "    \n",
    "count(r for r in eval(extract_entity_name(Calories)))\n",
    "\n",
    "str(datetime.now())\n",
    "\n",
    "\n",
    "# @db_session\n",
    "# def entity_display(entity_name):\n",
    "#        return f'at {str(datetime.now())[:-7]} the number of instances in {entity_name} is  {count(r for r in eval(entity_name))}'\n",
    "\n",
    "# entity_display('Calories')\n",
    "\n",
    "# jobs = bg.BackgroundJobManager()\n",
    "app = dash.Dash(external_stylesheets=[dbc.themes.BOOTSTRAP])\n"
   ]
  },
  {
   "attachments": {},
   "cell_type": "markdown",
   "metadata": {},
   "source": [
    "## DASHBORD 1"
   ]
  },
  {
   "cell_type": "code",
   "execution_count": 10,
   "metadata": {},
   "outputs": [],
   "source": [
    "@db_session\n",
    "def pie_graph_by_partecipant(name = None):\n",
    "    df = 0\n",
    "    a = 0\n",
    "    df  = pd.DataFrame(DB.select(\"\"\"select distinct d.partecipant\n",
    "              , sum(s.duration)\n",
    "              , sum(d.n_sedentary_minutes)\n",
    "              , sum(d.n_lightly_active_minutes)\n",
    "              , sum(d.n_moderately_active_minutes)\n",
    "              , sum(d.n_very_active_minutes)\n",
    "from day d\n",
    "join sleep s on s.partecipant = d.partecipant and date(s.vt) = d.vt\n",
    "group by d.partecipant\n",
    "\"\"\"), columns= [\"Partecipant\",\"Total duration sleep\", \"Sedentary Minutes\",\"Lightly Active Minutes\",\"Moderately Active Minutes\",\"Very Active Minutes\"])\n",
    "\n",
    "\n",
    "    a = df.melt(id_vars=[\"Partecipant\"],\n",
    "            var_name=\"Type\",\n",
    "            value_name=\"Minutes\").sort_values(['Partecipant']).reset_index(drop=True)\n",
    "\n",
    "    a = a[ a[\"Partecipant\"] == name ] if name != None else a\n",
    "    fig = px.pie(a, values= 'Minutes', names='Type', color_discrete_sequence=px.colors.sequential.RdBu)\n",
    "\n",
    "    return fig\n"
   ]
  },
  {
   "cell_type": "code",
   "execution_count": 11,
   "metadata": {},
   "outputs": [
    {
     "data": {
      "text/plain": [
       "Dropdown(options=[{'label': 'p01', 'value': 'p01'}, {'label': 'p02', 'value': 'p02'}, {'label': 'p03', 'value': 'p03'}, {'label': 'p04', 'value': 'p04'}, {'label': 'p05', 'value': 'p05'}, {'label': 'p07', 'value': 'p07'}, {'label': 'p09', 'value': 'p09'}, {'label': 'p11', 'value': 'p11'}], id='selected_part')"
      ]
     },
     "execution_count": 11,
     "metadata": {},
     "output_type": "execute_result"
    }
   ],
   "source": [
    "def partecipant_selector():\n",
    "    a = pd.DataFrame(DB.select(\"\"\"select distinct d.partecipant\n",
    "              , sum(s.duration)\n",
    "              , sum(d.n_sedentary_minutes)\n",
    "              , sum(d.n_lightly_active_minutes)\n",
    "              , sum(d.n_moderately_active_minutes)\n",
    "              , sum(d.n_very_active_minutes)\n",
    "        from day d\n",
    "            join sleep s on s.partecipant = d.partecipant\n",
    "        group by d.partecipant\n",
    "        \"\"\"), columns= [\"Partecipant\",\"TotSleep\",\"LightlyActiveMinutes\",\"ModeratelyActiveMinutes\",\"VeryActiveMinutes\", \"SedentaryMinutes\"])\n",
    "    part = list(set(a[\"Partecipant\"]))\n",
    "    part.sort()\n",
    "    r = dcc.Dropdown(id='selected_part',\n",
    "    options= [  { 'label': y , 'value': y } for y in part ]\n",
    "    )\n",
    "    return r\n",
    "\n",
    "partecipant_selector()"
   ]
  },
  {
   "attachments": {},
   "cell_type": "markdown",
   "metadata": {},
   "source": [
    "## DASHBORD2"
   ]
  },
  {
   "cell_type": "code",
   "execution_count": 12,
   "metadata": {},
   "outputs": [],
   "source": [
    "@db_session\n",
    "def bar_by_age_range(my_range):\n",
    "        \n",
    "        df3 = pd.DataFrame(DB.select(\"\"\"select date(s.vt), s.partecipant, p.gender, p.age,case when d.n_deep_sleep_in_minutes is null then 0 else d.n_deep_sleep_in_minutes end AS totDeepSleep\n",
    "                                        , sum(duration) - case when d.n_deep_sleep_in_minutes is null then 0 else d.n_deep_sleep_in_minutes end AS NormalSleep\n",
    "                                        from sleep s\n",
    "                                        join day d on d.partecipant = s.partecipant and date(s.vt) = date(d.vt)\n",
    "                                        left join partecipant p on p.name = s.partecipant\n",
    "                                        --where s.partecipant = 'p03'\n",
    "                                        group by date(s.vt), s.partecipant, p.gender, p.age, d.n_deep_sleep_in_minutes\n",
    "                                        order by date(s.vt),s.partecipant\n",
    "                                \"\"\"), columns= [\"Data\",\"Partecipant\", \"Gender\", \"Age\",\"Total Deep Sleep\",\"Total Normal Sleep\",])\n",
    "\n",
    "        \n",
    "        b = df3.melt(id_vars=[\"Data\", \"Partecipant\", \"Gender\", \"Age\"], \n",
    "                var_name=\"Sleep\", \n",
    "                value_name=\"Minutes\").sort_values(['Data', 'Partecipant']).reset_index(drop=True)\n",
    "        b = b[b[\"Age\"].between(my_range[0], my_range[1])]\n",
    "        print(b)\n",
    "\n",
    "        # fig = px.bar(b, x=\"Minutes\", y=\"Partecipant\", color=\"Sleep\", title=\"Sleep vs Deep sleep\", barmode=\"group\")\n",
    "        fig = px.bar(b, x=\"Data\", y=\"Minutes\", color=\"Partecipant\", title=\"Sleep vs Deep sleep\",pattern_shape = \"Sleep\", barmode=\"group\")\n",
    "        # fig.show()\n",
    "        return fig\n"
   ]
  },
  {
   "attachments": {},
   "cell_type": "markdown",
   "metadata": {},
   "source": [
    "## DASHBOARD 3"
   ]
  },
  {
   "cell_type": "code",
   "execution_count": 13,
   "metadata": {},
   "outputs": [],
   "source": [
    "import plotly.express as px\n",
    "import calendar\n",
    "\n",
    "@db_session\n",
    "def scatter_by_month(year = None, month = None):\n",
    "    data = list(select( \n",
    "        ((a.vt, a.vt.date().year, a.vt.date().month, a.activityName, a.avg_BPM, a.calories, c.name, c.age) for a in Exercises\n",
    "        for c in Partecipant \n",
    "        if a.partecipant == c\n",
    "        )\n",
    "        ))\n",
    "    print(year)\n",
    "    print(month)\n",
    "    data.sort(key=lambda x: [x[0]])   \n",
    "    data\n",
    "    df = pd.DataFrame(data, columns=['Data', 'Year', 'Month','Activity name','Bpm','Cal','Partecipant','Age'])\n",
    "    df['Data'] = pd.to_datetime(df['Data'])\n",
    "    df['Year'] = df['Data'].dt.year\n",
    "    df['Month'] = df['Data'].dt.month\n",
    "\n",
    "    #print(\"DataFrame after datetime conversion:\")\n",
    "   # print(df)\n",
    "\n",
    "    if year is not None:\n",
    "        df = df[df['Year'] == year]\n",
    "    if month is not None:\n",
    "        df = df[df['Month'] == month]\n",
    " #   print(df)\n",
    "\n",
    "    fig = px.scatter(\n",
    "        data_frame = df,\n",
    "        x = \"Data\",\n",
    "        y= \"Bpm\",\n",
    "        size= \"Cal\",\n",
    "        color = 'Partecipant'\n",
    "    )\n",
    "\n",
    "    fig2 = px.line(df, x='Data', y='Bpm', color='Partecipant', markers=True)\n",
    "    fig2.update_layout(showlegend = False)\n",
    "\n",
    "    fig2.for_each_trace(\n",
    "        lambda trace:\n",
    "        trace.update(showlegend = False)\n",
    "    )\n",
    "\n",
    "    # fig.add_trace(fig2.data[0], )\n",
    "    for t in fig2.data:\n",
    "        fig.add_trace(t)\n",
    "\n",
    "    #fig.show()\n",
    "    return fig\n",
    "\n",
    "#scatter_by_month(2019,12)\n",
    "\n",
    "@db_session\n",
    "def get_available_years():\n",
    "    # Query per ottenere gli anni disponibili dal database utilizzando Pony ORM\n",
    "    years = list(select((y.vt.date().year) for y in Exercises))\n",
    "    return years\n",
    "\n",
    "@db_session\n",
    "def get_available_months(year):\n",
    "    # Query per ottenere i mesi disponibili dal database per l'anno selezionato utilizzando Pony ORM\n",
    "    months = list(select(m.vt.date().month for m in Exercises if m.vt.date().year == year)) \n",
    "    #print(months)\n",
    "    return months\n"
   ]
  },
  {
   "cell_type": "code",
   "execution_count": 14,
   "metadata": {},
   "outputs": [
    {
     "data": {
      "text/plain": [
       "Row([Col(children=[H1(children='Welcome to the dashboard page of HIS exam', style={'text-align': 'center'}), P('We choose to implement an html page written in python with bootstrap that permits to visualize pmdata dataset stored previously on the database with ORM. We implement 3 different types of dashboard, each with a callback function to filter data visualized:'), Ul([Li(['Pie graph']), Li(['Bar graph']), Li(['Scatter graph'])]), H2('PIE GRAPH - Dashboard 1'), H4(children='Visualize the minutes in different activity for partecipants', style={'font-style': 'italic', 'color': 'grey'}), Dropdown(options=[{'label': 'p01', 'value': 'p01'}, {'label': 'p02', 'value': 'p02'}, {'label': 'p03', 'value': 'p03'}, {'label': 'p04', 'value': 'p04'}, {'label': 'p05', 'value': 'p05'}, {'label': 'p07', 'value': 'p07'}, {'label': 'p09', 'value': 'p09'}, {'label': 'p11', 'value': 'p11'}], id='selected_part'), Graph(id='chart_pie'), Div(id='debug1')], lg={'size': 8, 'offset': 2}, md={'size': 12, 'offset': 2}), Hr(None), Col(children=[H2('BAR GRAPH - Dashboard 2'), H4(children='Visualize the minutes in different activity for every partecipant in the selected age range', style={'font-style': 'italic', 'color': 'grey'}), RangeSlider(min=10, max=110, marks={10: '10', 15: '15', 20: '20', 25: '25', 30: '30', 35: '35', 40: '40', 45: '45', 50: '50', 55: '55', 60: '60', 65: '65', 70: '70', 75: '75', 80: '80', 85: '85', 90: '90', 95: '95', 100: '100', 105: '105', 110: '110'}, value=[30, 70], id='my-slider'), Graph(id='histogram'), Div(id='debug2')], lg={'size': 8, 'offset': 2}, md={'size': 12, 'offset': 2}), Hr(None), Col(children=[H2('SCATTER GRAPH - Dashboard 3'), H4(children='Visualize the bpm scatter over vt and the number of calories as dimension of the dots', style={'font-style': 'italic', 'color': 'grey'}), Dropdown(options=[{'label': '2019', 'value': 2019}, {'label': '2020', 'value': 2020}], placeholder='Select a year...', id='year-dropdown'), Dropdown(options=[], placeholder='Select a month...', id='month-dropdown'), Div(id='selected-info'), Graph(id='scatter-plot')], lg={'size': 8, 'offset': 2}, md={'size': 12, 'offset': 2})])"
      ]
     },
     "execution_count": 14,
     "metadata": {},
     "output_type": "execute_result"
    }
   ],
   "source": [
    "layout_main = dbc.Row(\n",
    "[\n",
    "    dbc.Col(\n",
    "        children = [\n",
    "            app_title,\n",
    "            app_p,\n",
    "            app_items,\n",
    "            app_title_dash1,\n",
    "            subtitle_dash1,\n",
    "            partecipant_selector(),\n",
    "            dcc.Graph(id = 'chart_pie'),\n",
    "            html.Div(id = 'debug1')\n",
    "        ],\n",
    "        **style_main_adaptive\n",
    "    ),\n",
    "    hr,\n",
    "    dbc.Col(\n",
    "        children = [\n",
    "            app_title_dash2,\n",
    "            subtitle_dash2,\n",
    "            dcc.RangeSlider(id='my-slider',\n",
    "                    marks={i: str(i) for i in range(10, 111, 5)},\n",
    "                    min=10,\n",
    "                    max=110,\n",
    "                    value=[30,70]\n",
    "            ),\n",
    "            dcc.Graph(id = 'histogram'),\n",
    "            html.Div(id = 'debug2')\n",
    "        ],\n",
    "        **style_main_adaptive\n",
    "    ),\n",
    "    hr,\n",
    "    dbc.Col(\n",
    "        children=[\n",
    "            app_title_dash3,\n",
    "            subtitle_dash3,\n",
    "        dcc.Dropdown(\n",
    "            id='year-dropdown',\n",
    "            options=[{'label': str(year), 'value': year} for year in get_available_years()],\n",
    "            placeholder='Select a year...'\n",
    "        ),\n",
    "        dcc.Dropdown(\n",
    "            id='month-dropdown',\n",
    "            options=[],\n",
    "            placeholder='Select a month...'\n",
    "        ),\n",
    "        html.Div(id='selected-info'),  # Div to display the selected year and month\n",
    "        dcc.Graph(id='scatter-plot')\n",
    "    ],\n",
    "    **style_main_adaptive\n",
    "    )\n",
    "]\n",
    ")\n",
    "app.layout = layout_main\n",
    "app.layout\n"
   ]
  },
  {
   "cell_type": "code",
   "execution_count": 15,
   "metadata": {},
   "outputs": [],
   "source": [
    "@app.callback(\n",
    "    Output('chart_pie', 'figure'),\n",
    "    Input('selected_part', 'value')\n",
    ")\n",
    "def pie_by_partecipant(value):\n",
    "    if value != None:\n",
    "        return pie_graph_by_partecipant(value)\n",
    "    else:\n",
    "        return pie_graph_by_partecipant()\n",
    "    \n",
    "@app.callback(\n",
    "    Output('histogram', 'figure'),\n",
    "    Input('my-slider', 'value')\n",
    ")\n",
    "def bar_age_range(slider_range):\n",
    "    if slider_range != None:\n",
    "        return bar_by_age_range(slider_range)\n",
    "    else:\n",
    "        return bar_by_age_range()"
   ]
  },
  {
   "cell_type": "code",
   "execution_count": 16,
   "metadata": {},
   "outputs": [],
   "source": [
    "import plotly.graph_objects as go\n",
    "\n",
    "\n",
    "# Define a callback function to update the dropdown options based on the data\n",
    "@app.callback(\n",
    "    Output('month-dropdown', 'options'),\n",
    "    [Input('year-dropdown', 'value')]\n",
    ")\n",
    "def update_month_dropdown(year):\n",
    "    if year is None:\n",
    "        month_options = []\n",
    "    else:\n",
    "        months = get_available_months(year)\n",
    "        month_options = [{'label': calendar.month_name[month], 'value': month} for month in months]\n",
    "    return month_options\n",
    "\n",
    "\n",
    "@app.callback(\n",
    "    Output('scatter-plot', 'figure'),\n",
    "    [Input('year-dropdown', 'value'),\n",
    "     Input('month-dropdown', 'value')]\n",
    ")\n",
    "def update_graph(selected_year, selected_month):\n",
    "    if selected_year is not None and selected_month is not None:\n",
    "        #month_number = list(calendar.month_name).index(selected_month)\n",
    "        selected_month = calendar.month_name[selected_month]\n",
    "        month_number = list(calendar.month_name).index(selected_month)\n",
    "        fig = scatter_by_month(selected_year, month_number)\n",
    "    else:\n",
    "        fig = go.Figure()\n",
    "        fig = scatter_by_month()\n",
    "        # In caso di mancata selezione di un anno o un mese, puoi restituire un grafico vuoto o un messaggio di avviso\n",
    "        fig.update_layout(title='Please select a year and month')\n",
    "    return fig\n"
   ]
  },
  {
   "cell_type": "code",
   "execution_count": null,
   "metadata": {},
   "outputs": [
    {
     "name": "stdout",
     "output_type": "stream",
     "text": [
      "Dash is running on http://127.0.0.1:8051/\n",
      "\n"
     ]
    },
    {
     "name": "stderr",
     "output_type": "stream",
     "text": [
      "INFO:dash.dash:Dash is running on http://127.0.0.1:8051/\n",
      "\n"
     ]
    },
    {
     "data": {
      "text/plain": [
       "<BackgroundJob #0: app.run_server( host='127.0.0.1', port='8051')>"
      ]
     },
     "execution_count": 17,
     "metadata": {},
     "output_type": "execute_result"
    },
    {
     "name": "stdout",
     "output_type": "stream",
     "text": [
      " * Serving Flask app '__main__'\n",
      " * Debug mode: off\n"
     ]
    },
    {
     "name": "stderr",
     "output_type": "stream",
     "text": [
      "INFO:werkzeug:\u001b[31m\u001b[1mWARNING: This is a development server. Do not use it in a production deployment. Use a production WSGI server instead.\u001b[0m\n",
      " * Running on http://127.0.0.1:8051\n",
      "INFO:werkzeug:\u001b[33mPress CTRL+C to quit\u001b[0m\n"
     ]
    },
    {
     "name": "stderr",
     "output_type": "stream",
     "text": [
      "INFO:werkzeug:127.0.0.1 - - [20/Jul/2023 14:04:54] \"GET / HTTP/1.1\" 200 -\n",
      "INFO:werkzeug:127.0.0.1 - - [20/Jul/2023 14:04:54] \"GET /_dash-layout HTTP/1.1\" 200 -\n",
      "INFO:werkzeug:127.0.0.1 - - [20/Jul/2023 14:04:54] \"GET /_dash-dependencies HTTP/1.1\" 200 -\n",
      "INFO:werkzeug:127.0.0.1 - - [20/Jul/2023 14:04:54] \"\u001b[36mGET /_dash-component-suites/dash/dcc/async-graph.js HTTP/1.1\u001b[0m\" 304 -\n",
      "INFO:werkzeug:127.0.0.1 - - [20/Jul/2023 14:04:54] \"\u001b[36mGET /_dash-component-suites/dash/dcc/async-dropdown.js HTTP/1.1\u001b[0m\" 304 -\n",
      "INFO:werkzeug:127.0.0.1 - - [20/Jul/2023 14:04:54] \"\u001b[36mGET /_dash-component-suites/dash/dcc/async-slider.js HTTP/1.1\u001b[0m\" 304 -\n",
      "INFO:werkzeug:127.0.0.1 - - [20/Jul/2023 14:04:54] \"POST /_dash-update-component HTTP/1.1\" 200 -\n"
     ]
    },
    {
     "name": "stdout",
     "output_type": "stream",
     "text": [
      "          Data Partecipant Gender  Age               Sleep  Minutes\n",
      "6   2019-12-17         p01   male   48    Total Deep Sleep     52.0\n",
      "7   2019-12-17         p01   male   48  Total Normal Sleep    297.0\n",
      "14  2020-02-18         p05   male   35    Total Deep Sleep     81.0\n",
      "15  2020-02-18         p05   male   35  Total Normal Sleep    356.0\n",
      "16  2020-02-27         p02   male   60    Total Deep Sleep      5.0\n",
      "17  2020-02-27         p02   male   60  Total Normal Sleep    577.0\n",
      "None\n",
      "None\n",
      "None\n",
      "None\n"
     ]
    },
    {
     "name": "stderr",
     "output_type": "stream",
     "text": [
      "INFO:werkzeug:127.0.0.1 - - [20/Jul/2023 14:04:55] \"\u001b[36mGET /_dash-component-suites/dash/dcc/async-plotlyjs.js HTTP/1.1\u001b[0m\" 304 -\n",
      "INFO:werkzeug:127.0.0.1 - - [20/Jul/2023 14:04:56] \"GET /_favicon.ico?v=2.9.3 HTTP/1.1\" 200 -\n",
      "INFO:werkzeug:127.0.0.1 - - [20/Jul/2023 14:04:57] \"POST /_dash-update-component HTTP/1.1\" 200 -\n",
      "INFO:werkzeug:127.0.0.1 - - [20/Jul/2023 14:04:57] \"POST /_dash-update-component HTTP/1.1\" 200 -\n",
      "INFO:werkzeug:127.0.0.1 - - [20/Jul/2023 14:04:57] \"POST /_dash-update-component HTTP/1.1\" 200 -\n",
      "INFO:werkzeug:127.0.0.1 - - [20/Jul/2023 14:04:57] \"POST /_dash-update-component HTTP/1.1\" 200 -\n",
      "INFO:werkzeug:127.0.0.1 - - [20/Jul/2023 14:26:12] \"POST /_dash-update-component HTTP/1.1\" 200 -\n"
     ]
    },
    {
     "name": "stdout",
     "output_type": "stream",
     "text": [
      "          Data Partecipant  Gender  Age               Sleep  Minutes\n",
      "0   2019-11-07         p07    male   26    Total Deep Sleep      0.0\n",
      "1   2019-11-07         p07    male   26  Total Normal Sleep    518.0\n",
      "2   2019-11-09         p07    male   26    Total Deep Sleep     74.0\n",
      "3   2019-11-09         p07    male   26  Total Normal Sleep    400.0\n",
      "4   2019-11-14         p09    male   26    Total Deep Sleep     71.0\n",
      "5   2019-11-14         p09    male   26  Total Normal Sleep    354.0\n",
      "6   2019-12-17         p01    male   48    Total Deep Sleep     52.0\n",
      "7   2019-12-17         p01    male   48  Total Normal Sleep    297.0\n",
      "8   2020-01-05         p07    male   26    Total Deep Sleep     16.0\n",
      "9   2020-01-05         p07    male   26  Total Normal Sleep    662.0\n",
      "10  2020-01-05         p11  female   25    Total Deep Sleep     88.0\n",
      "11  2020-01-05         p11  female   25  Total Normal Sleep    933.0\n",
      "12  2020-01-06         p11  female   25    Total Deep Sleep     53.0\n",
      "13  2020-01-06         p11  female   25  Total Normal Sleep    391.0\n",
      "14  2020-02-18         p05    male   35    Total Deep Sleep     81.0\n",
      "15  2020-02-18         p05    male   35  Total Normal Sleep    356.0\n",
      "16  2020-02-27         p02    male   60    Total Deep Sleep      5.0\n",
      "17  2020-02-27         p02    male   60  Total Normal Sleep    577.0\n",
      "18  2020-02-27         p04  female   26    Total Deep Sleep     89.0\n",
      "19  2020-02-27         p04  female   26  Total Normal Sleep    393.0\n",
      "20  2020-03-08         p03    male   25    Total Deep Sleep     36.0\n",
      "21  2020-03-08         p03    male   25  Total Normal Sleep    498.0\n"
     ]
    },
    {
     "name": "stderr",
     "output_type": "stream",
     "text": [
      "INFO:werkzeug:127.0.0.1 - - [20/Jul/2023 14:27:57] \"POST /_dash-update-component HTTP/1.1\" 200 -\n",
      "INFO:werkzeug:127.0.0.1 - - [20/Jul/2023 14:27:58] \"POST /_dash-update-component HTTP/1.1\" 200 -\n"
     ]
    },
    {
     "name": "stdout",
     "output_type": "stream",
     "text": [
      "          Data Partecipant Gender  Age               Sleep  Minutes\n",
      "6   2019-12-17         p01   male   48    Total Deep Sleep     52.0\n",
      "7   2019-12-17         p01   male   48  Total Normal Sleep    297.0\n",
      "14  2020-02-18         p05   male   35    Total Deep Sleep     81.0\n",
      "15  2020-02-18         p05   male   35  Total Normal Sleep    356.0\n",
      "16  2020-02-27         p02   male   60    Total Deep Sleep      5.0\n",
      "17  2020-02-27         p02   male   60  Total Normal Sleep    577.0\n",
      "          Data Partecipant  Gender  Age               Sleep  Minutes\n",
      "0   2019-11-07         p07    male   26    Total Deep Sleep      0.0\n",
      "1   2019-11-07         p07    male   26  Total Normal Sleep    518.0\n",
      "2   2019-11-09         p07    male   26    Total Deep Sleep     74.0\n",
      "3   2019-11-09         p07    male   26  Total Normal Sleep    400.0\n",
      "4   2019-11-14         p09    male   26    Total Deep Sleep     71.0\n",
      "5   2019-11-14         p09    male   26  Total Normal Sleep    354.0\n",
      "6   2019-12-17         p01    male   48    Total Deep Sleep     52.0\n",
      "7   2019-12-17         p01    male   48  Total Normal Sleep    297.0\n",
      "8   2020-01-05         p07    male   26    Total Deep Sleep     16.0\n",
      "9   2020-01-05         p07    male   26  Total Normal Sleep    662.0\n",
      "10  2020-01-05         p11  female   25    Total Deep Sleep     88.0\n",
      "11  2020-01-05         p11  female   25  Total Normal Sleep    933.0\n",
      "12  2020-01-06         p11  female   25    Total Deep Sleep     53.0\n",
      "13  2020-01-06         p11  female   25  Total Normal Sleep    391.0\n",
      "14  2020-02-18         p05    male   35    Total Deep Sleep     81.0\n",
      "15  2020-02-18         p05    male   35  Total Normal Sleep    356.0\n",
      "16  2020-02-27         p02    male   60    Total Deep Sleep      5.0\n",
      "17  2020-02-27         p02    male   60  Total Normal Sleep    577.0\n",
      "18  2020-02-27         p04  female   26    Total Deep Sleep     89.0\n",
      "19  2020-02-27         p04  female   26  Total Normal Sleep    393.0\n",
      "20  2020-03-08         p03    male   25    Total Deep Sleep     36.0\n",
      "21  2020-03-08         p03    male   25  Total Normal Sleep    498.0\n"
     ]
    },
    {
     "name": "stderr",
     "output_type": "stream",
     "text": [
      "INFO:werkzeug:127.0.0.1 - - [20/Jul/2023 14:28:50] \"POST /_dash-update-component HTTP/1.1\" 200 -\n",
      "INFO:werkzeug:127.0.0.1 - - [20/Jul/2023 14:28:52] \"POST /_dash-update-component HTTP/1.1\" 200 -\n"
     ]
    },
    {
     "name": "stdout",
     "output_type": "stream",
     "text": [
      "          Data Partecipant  Gender  Age               Sleep  Minutes\n",
      "0   2019-11-07         p07    male   26    Total Deep Sleep      0.0\n",
      "1   2019-11-07         p07    male   26  Total Normal Sleep    518.0\n",
      "2   2019-11-09         p07    male   26    Total Deep Sleep     74.0\n",
      "3   2019-11-09         p07    male   26  Total Normal Sleep    400.0\n",
      "4   2019-11-14         p09    male   26    Total Deep Sleep     71.0\n",
      "5   2019-11-14         p09    male   26  Total Normal Sleep    354.0\n",
      "6   2019-12-17         p01    male   48    Total Deep Sleep     52.0\n",
      "7   2019-12-17         p01    male   48  Total Normal Sleep    297.0\n",
      "8   2020-01-05         p07    male   26    Total Deep Sleep     16.0\n",
      "9   2020-01-05         p07    male   26  Total Normal Sleep    662.0\n",
      "10  2020-01-05         p11  female   25    Total Deep Sleep     88.0\n",
      "11  2020-01-05         p11  female   25  Total Normal Sleep    933.0\n",
      "12  2020-01-06         p11  female   25    Total Deep Sleep     53.0\n",
      "13  2020-01-06         p11  female   25  Total Normal Sleep    391.0\n",
      "14  2020-02-18         p05    male   35    Total Deep Sleep     81.0\n",
      "15  2020-02-18         p05    male   35  Total Normal Sleep    356.0\n",
      "18  2020-02-27         p04  female   26    Total Deep Sleep     89.0\n",
      "19  2020-02-27         p04  female   26  Total Normal Sleep    393.0\n",
      "20  2020-03-08         p03    male   25    Total Deep Sleep     36.0\n",
      "21  2020-03-08         p03    male   25  Total Normal Sleep    498.0\n"
     ]
    },
    {
     "name": "stderr",
     "output_type": "stream",
     "text": [
      "INFO:werkzeug:127.0.0.1 - - [20/Jul/2023 14:29:58] \"POST /_dash-update-component HTTP/1.1\" 200 -\n"
     ]
    },
    {
     "name": "stdout",
     "output_type": "stream",
     "text": [
      "None\n",
      "None\n"
     ]
    },
    {
     "name": "stderr",
     "output_type": "stream",
     "text": [
      "INFO:werkzeug:127.0.0.1 - - [20/Jul/2023 14:29:59] \"POST /_dash-update-component HTTP/1.1\" 200 -\n"
     ]
    },
    {
     "name": "stdout",
     "output_type": "stream",
     "text": [
      "None\n",
      "None\n"
     ]
    },
    {
     "name": "stderr",
     "output_type": "stream",
     "text": [
      "INFO:werkzeug:127.0.0.1 - - [20/Jul/2023 14:29:59] \"POST /_dash-update-component HTTP/1.1\" 200 -\n"
     ]
    },
    {
     "name": "stdout",
     "output_type": "stream",
     "text": [
      "2019\n",
      "11\n"
     ]
    },
    {
     "name": "stderr",
     "output_type": "stream",
     "text": [
      "INFO:werkzeug:127.0.0.1 - - [20/Jul/2023 14:30:01] \"POST /_dash-update-component HTTP/1.1\" 200 -\n",
      "INFO:werkzeug:127.0.0.1 - - [20/Jul/2023 14:30:46] \"POST /_dash-update-component HTTP/1.1\" 200 -\n"
     ]
    },
    {
     "name": "stdout",
     "output_type": "stream",
     "text": [
      "2020\n",
      "11\n",
      "2020\n",
      "11\n"
     ]
    },
    {
     "name": "stderr",
     "output_type": "stream",
     "text": [
      "INFO:werkzeug:127.0.0.1 - - [20/Jul/2023 14:30:46] \"POST /_dash-update-component HTTP/1.1\" 200 -\n",
      "INFO:werkzeug:127.0.0.1 - - [20/Jul/2023 14:30:47] \"POST /_dash-update-component HTTP/1.1\" 200 -\n"
     ]
    },
    {
     "name": "stdout",
     "output_type": "stream",
     "text": [
      "2020\n",
      "2\n"
     ]
    },
    {
     "name": "stderr",
     "output_type": "stream",
     "text": [
      "INFO:werkzeug:127.0.0.1 - - [20/Jul/2023 14:30:49] \"POST /_dash-update-component HTTP/1.1\" 200 -\n"
     ]
    },
    {
     "name": "stdout",
     "output_type": "stream",
     "text": [
      "2020\n",
      "1\n"
     ]
    },
    {
     "name": "stderr",
     "output_type": "stream",
     "text": [
      "INFO:werkzeug:127.0.0.1 - - [20/Jul/2023 14:30:52] \"POST /_dash-update-component HTTP/1.1\" 200 -\n"
     ]
    },
    {
     "name": "stdout",
     "output_type": "stream",
     "text": [
      "2020\n",
      "2\n"
     ]
    },
    {
     "name": "stderr",
     "output_type": "stream",
     "text": [
      "INFO:werkzeug:127.0.0.1 - - [20/Jul/2023 14:30:55] \"POST /_dash-update-component HTTP/1.1\" 200 -\n"
     ]
    }
   ],
   "source": [
    "jobs.new(\"app.run_server( host='127.0.0.1', port='8051')\")"
   ]
  }
 ],
 "metadata": {
  "kernelspec": {
   "display_name": "Python 3",
   "language": "python",
   "name": "python3"
  },
  "language_info": {
   "codemirror_mode": {
    "name": "ipython",
    "version": 3
   },
   "file_extension": ".py",
   "mimetype": "text/x-python",
   "name": "python",
   "nbconvert_exporter": "python",
   "pygments_lexer": "ipython3",
   "version": "3.10.10"
  },
  "orig_nbformat": 4
 },
 "nbformat": 4,
 "nbformat_minor": 2
}
